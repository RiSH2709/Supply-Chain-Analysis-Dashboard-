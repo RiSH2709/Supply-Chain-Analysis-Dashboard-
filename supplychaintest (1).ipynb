{
  "nbformat": 4,
  "nbformat_minor": 0,
  "metadata": {
    "colab": {
      "provenance": []
    },
    "kernelspec": {
      "name": "python3",
      "display_name": "Python 3"
    },
    "language_info": {
      "name": "python"
    }
  },
  "cells": [
    {
      "cell_type": "code",
      "source": [
        "#!pip install streamlit\n",
        "#!pip install pyngrok\n"
      ],
      "metadata": {
        "colab": {
          "base_uri": "https://localhost:8080/"
        },
        "id": "gS83vr9Lh9rS",
        "outputId": "eaeea5ce-f659-411c-ed37-ff2efbf43059"
      },
      "execution_count": null,
      "outputs": [
        {
          "output_type": "stream",
          "name": "stdout",
          "text": [
            "Collecting streamlit\n",
            "  Downloading streamlit-1.40.2-py2.py3-none-any.whl.metadata (8.4 kB)\n",
            "Requirement already satisfied: altair<6,>=4.0 in /usr/local/lib/python3.10/dist-packages (from streamlit) (4.2.2)\n",
            "Requirement already satisfied: blinker<2,>=1.0.0 in /usr/local/lib/python3.10/dist-packages (from streamlit) (1.9.0)\n",
            "Requirement already satisfied: cachetools<6,>=4.0 in /usr/local/lib/python3.10/dist-packages (from streamlit) (5.5.0)\n",
            "Requirement already satisfied: click<9,>=7.0 in /usr/local/lib/python3.10/dist-packages (from streamlit) (8.1.7)\n",
            "Requirement already satisfied: numpy<3,>=1.23 in /usr/local/lib/python3.10/dist-packages (from streamlit) (1.26.4)\n",
            "Requirement already satisfied: packaging<25,>=20 in /usr/local/lib/python3.10/dist-packages (from streamlit) (24.2)\n",
            "Requirement already satisfied: pandas<3,>=1.4.0 in /usr/local/lib/python3.10/dist-packages (from streamlit) (2.2.2)\n",
            "Requirement already satisfied: pillow<12,>=7.1.0 in /usr/local/lib/python3.10/dist-packages (from streamlit) (11.0.0)\n",
            "Requirement already satisfied: protobuf<6,>=3.20 in /usr/local/lib/python3.10/dist-packages (from streamlit) (4.25.5)\n",
            "Requirement already satisfied: pyarrow>=7.0 in /usr/local/lib/python3.10/dist-packages (from streamlit) (17.0.0)\n",
            "Requirement already satisfied: requests<3,>=2.27 in /usr/local/lib/python3.10/dist-packages (from streamlit) (2.32.3)\n",
            "Requirement already satisfied: rich<14,>=10.14.0 in /usr/local/lib/python3.10/dist-packages (from streamlit) (13.9.4)\n",
            "Requirement already satisfied: tenacity<10,>=8.1.0 in /usr/local/lib/python3.10/dist-packages (from streamlit) (9.0.0)\n",
            "Requirement already satisfied: toml<2,>=0.10.1 in /usr/local/lib/python3.10/dist-packages (from streamlit) (0.10.2)\n",
            "Requirement already satisfied: typing-extensions<5,>=4.3.0 in /usr/local/lib/python3.10/dist-packages (from streamlit) (4.12.2)\n",
            "Collecting watchdog<7,>=2.1.5 (from streamlit)\n",
            "  Downloading watchdog-6.0.0-py3-none-manylinux2014_x86_64.whl.metadata (44 kB)\n",
            "\u001b[2K     \u001b[90m━━━━━━━━━━━━━━━━━━━━━━━━━━━━━━━━━━━━━━━━\u001b[0m \u001b[32m44.3/44.3 kB\u001b[0m \u001b[31m2.0 MB/s\u001b[0m eta \u001b[36m0:00:00\u001b[0m\n",
            "\u001b[?25hRequirement already satisfied: gitpython!=3.1.19,<4,>=3.0.7 in /usr/local/lib/python3.10/dist-packages (from streamlit) (3.1.43)\n",
            "Collecting pydeck<1,>=0.8.0b4 (from streamlit)\n",
            "  Downloading pydeck-0.9.1-py2.py3-none-any.whl.metadata (4.1 kB)\n",
            "Requirement already satisfied: tornado<7,>=6.0.3 in /usr/local/lib/python3.10/dist-packages (from streamlit) (6.3.3)\n",
            "Requirement already satisfied: entrypoints in /usr/local/lib/python3.10/dist-packages (from altair<6,>=4.0->streamlit) (0.4)\n",
            "Requirement already satisfied: jinja2 in /usr/local/lib/python3.10/dist-packages (from altair<6,>=4.0->streamlit) (3.1.4)\n",
            "Requirement already satisfied: jsonschema>=3.0 in /usr/local/lib/python3.10/dist-packages (from altair<6,>=4.0->streamlit) (4.23.0)\n",
            "Requirement already satisfied: toolz in /usr/local/lib/python3.10/dist-packages (from altair<6,>=4.0->streamlit) (0.12.1)\n",
            "Requirement already satisfied: gitdb<5,>=4.0.1 in /usr/local/lib/python3.10/dist-packages (from gitpython!=3.1.19,<4,>=3.0.7->streamlit) (4.0.11)\n",
            "Requirement already satisfied: python-dateutil>=2.8.2 in /usr/local/lib/python3.10/dist-packages (from pandas<3,>=1.4.0->streamlit) (2.8.2)\n",
            "Requirement already satisfied: pytz>=2020.1 in /usr/local/lib/python3.10/dist-packages (from pandas<3,>=1.4.0->streamlit) (2024.2)\n",
            "Requirement already satisfied: tzdata>=2022.7 in /usr/local/lib/python3.10/dist-packages (from pandas<3,>=1.4.0->streamlit) (2024.2)\n",
            "Requirement already satisfied: charset-normalizer<4,>=2 in /usr/local/lib/python3.10/dist-packages (from requests<3,>=2.27->streamlit) (3.4.0)\n",
            "Requirement already satisfied: idna<4,>=2.5 in /usr/local/lib/python3.10/dist-packages (from requests<3,>=2.27->streamlit) (3.10)\n",
            "Requirement already satisfied: urllib3<3,>=1.21.1 in /usr/local/lib/python3.10/dist-packages (from requests<3,>=2.27->streamlit) (2.2.3)\n",
            "Requirement already satisfied: certifi>=2017.4.17 in /usr/local/lib/python3.10/dist-packages (from requests<3,>=2.27->streamlit) (2024.8.30)\n",
            "Requirement already satisfied: markdown-it-py>=2.2.0 in /usr/local/lib/python3.10/dist-packages (from rich<14,>=10.14.0->streamlit) (3.0.0)\n",
            "Requirement already satisfied: pygments<3.0.0,>=2.13.0 in /usr/local/lib/python3.10/dist-packages (from rich<14,>=10.14.0->streamlit) (2.18.0)\n",
            "Requirement already satisfied: smmap<6,>=3.0.1 in /usr/local/lib/python3.10/dist-packages (from gitdb<5,>=4.0.1->gitpython!=3.1.19,<4,>=3.0.7->streamlit) (5.0.1)\n",
            "Requirement already satisfied: MarkupSafe>=2.0 in /usr/local/lib/python3.10/dist-packages (from jinja2->altair<6,>=4.0->streamlit) (3.0.2)\n",
            "Requirement already satisfied: attrs>=22.2.0 in /usr/local/lib/python3.10/dist-packages (from jsonschema>=3.0->altair<6,>=4.0->streamlit) (24.2.0)\n",
            "Requirement already satisfied: jsonschema-specifications>=2023.03.6 in /usr/local/lib/python3.10/dist-packages (from jsonschema>=3.0->altair<6,>=4.0->streamlit) (2024.10.1)\n",
            "Requirement already satisfied: referencing>=0.28.4 in /usr/local/lib/python3.10/dist-packages (from jsonschema>=3.0->altair<6,>=4.0->streamlit) (0.35.1)\n",
            "Requirement already satisfied: rpds-py>=0.7.1 in /usr/local/lib/python3.10/dist-packages (from jsonschema>=3.0->altair<6,>=4.0->streamlit) (0.21.0)\n",
            "Requirement already satisfied: mdurl~=0.1 in /usr/local/lib/python3.10/dist-packages (from markdown-it-py>=2.2.0->rich<14,>=10.14.0->streamlit) (0.1.2)\n",
            "Requirement already satisfied: six>=1.5 in /usr/local/lib/python3.10/dist-packages (from python-dateutil>=2.8.2->pandas<3,>=1.4.0->streamlit) (1.16.0)\n",
            "Downloading streamlit-1.40.2-py2.py3-none-any.whl (8.6 MB)\n",
            "\u001b[2K   \u001b[90m━━━━━━━━━━━━━━━━━━━━━━━━━━━━━━━━━━━━━━━━\u001b[0m \u001b[32m8.6/8.6 MB\u001b[0m \u001b[31m62.1 MB/s\u001b[0m eta \u001b[36m0:00:00\u001b[0m\n",
            "\u001b[?25hDownloading pydeck-0.9.1-py2.py3-none-any.whl (6.9 MB)\n",
            "\u001b[2K   \u001b[90m━━━━━━━━━━━━━━━━━━━━━━━━━━━━━━━━━━━━━━━━\u001b[0m \u001b[32m6.9/6.9 MB\u001b[0m \u001b[31m91.0 MB/s\u001b[0m eta \u001b[36m0:00:00\u001b[0m\n",
            "\u001b[?25hDownloading watchdog-6.0.0-py3-none-manylinux2014_x86_64.whl (79 kB)\n",
            "\u001b[2K   \u001b[90m━━━━━━━━━━━━━━━━━━━━━━━━━━━━━━━━━━━━━━━━\u001b[0m \u001b[32m79.1/79.1 kB\u001b[0m \u001b[31m5.5 MB/s\u001b[0m eta \u001b[36m0:00:00\u001b[0m\n",
            "\u001b[?25hInstalling collected packages: watchdog, pydeck, streamlit\n",
            "Successfully installed pydeck-0.9.1 streamlit-1.40.2 watchdog-6.0.0\n",
            "Collecting pyngrok\n",
            "  Downloading pyngrok-7.2.1-py3-none-any.whl.metadata (8.3 kB)\n",
            "Requirement already satisfied: PyYAML>=5.1 in /usr/local/lib/python3.10/dist-packages (from pyngrok) (6.0.2)\n",
            "Downloading pyngrok-7.2.1-py3-none-any.whl (22 kB)\n",
            "Installing collected packages: pyngrok\n",
            "Successfully installed pyngrok-7.2.1\n"
          ]
        }
      ]
    },
    {
      "cell_type": "code",
      "source": [
        "!pip install duckdb nbformat plotly statsmodels\n"
      ],
      "metadata": {
        "colab": {
          "base_uri": "https://localhost:8080/"
        },
        "id": "bUZfYxH3iBMF",
        "outputId": "2724b5b2-a237-441e-f25a-80847163308e"
      },
      "execution_count": null,
      "outputs": [
        {
          "output_type": "stream",
          "name": "stdout",
          "text": [
            "Requirement already satisfied: duckdb in /usr/local/lib/python3.10/dist-packages (1.1.3)\n",
            "Requirement already satisfied: nbformat in /usr/local/lib/python3.10/dist-packages (5.10.4)\n",
            "Requirement already satisfied: plotly in /usr/local/lib/python3.10/dist-packages (5.24.1)\n",
            "Requirement already satisfied: statsmodels in /usr/local/lib/python3.10/dist-packages (0.14.4)\n",
            "Requirement already satisfied: fastjsonschema>=2.15 in /usr/local/lib/python3.10/dist-packages (from nbformat) (2.20.0)\n",
            "Requirement already satisfied: jsonschema>=2.6 in /usr/local/lib/python3.10/dist-packages (from nbformat) (4.23.0)\n",
            "Requirement already satisfied: jupyter-core!=5.0.*,>=4.12 in /usr/local/lib/python3.10/dist-packages (from nbformat) (5.7.2)\n",
            "Requirement already satisfied: traitlets>=5.1 in /usr/local/lib/python3.10/dist-packages (from nbformat) (5.7.1)\n",
            "Requirement already satisfied: tenacity>=6.2.0 in /usr/local/lib/python3.10/dist-packages (from plotly) (9.0.0)\n",
            "Requirement already satisfied: packaging in /usr/local/lib/python3.10/dist-packages (from plotly) (24.2)\n",
            "Requirement already satisfied: numpy<3,>=1.22.3 in /usr/local/lib/python3.10/dist-packages (from statsmodels) (1.26.4)\n",
            "Requirement already satisfied: scipy!=1.9.2,>=1.8 in /usr/local/lib/python3.10/dist-packages (from statsmodels) (1.13.1)\n",
            "Requirement already satisfied: pandas!=2.1.0,>=1.4 in /usr/local/lib/python3.10/dist-packages (from statsmodels) (2.2.2)\n",
            "Requirement already satisfied: patsy>=0.5.6 in /usr/local/lib/python3.10/dist-packages (from statsmodels) (1.0.1)\n",
            "Requirement already satisfied: attrs>=22.2.0 in /usr/local/lib/python3.10/dist-packages (from jsonschema>=2.6->nbformat) (24.2.0)\n",
            "Requirement already satisfied: jsonschema-specifications>=2023.03.6 in /usr/local/lib/python3.10/dist-packages (from jsonschema>=2.6->nbformat) (2024.10.1)\n",
            "Requirement already satisfied: referencing>=0.28.4 in /usr/local/lib/python3.10/dist-packages (from jsonschema>=2.6->nbformat) (0.35.1)\n",
            "Requirement already satisfied: rpds-py>=0.7.1 in /usr/local/lib/python3.10/dist-packages (from jsonschema>=2.6->nbformat) (0.21.0)\n",
            "Requirement already satisfied: platformdirs>=2.5 in /usr/local/lib/python3.10/dist-packages (from jupyter-core!=5.0.*,>=4.12->nbformat) (4.3.6)\n",
            "Requirement already satisfied: python-dateutil>=2.8.2 in /usr/local/lib/python3.10/dist-packages (from pandas!=2.1.0,>=1.4->statsmodels) (2.8.2)\n",
            "Requirement already satisfied: pytz>=2020.1 in /usr/local/lib/python3.10/dist-packages (from pandas!=2.1.0,>=1.4->statsmodels) (2024.2)\n",
            "Requirement already satisfied: tzdata>=2022.7 in /usr/local/lib/python3.10/dist-packages (from pandas!=2.1.0,>=1.4->statsmodels) (2024.2)\n",
            "Requirement already satisfied: six>=1.5 in /usr/local/lib/python3.10/dist-packages (from python-dateutil>=2.8.2->pandas!=2.1.0,>=1.4->statsmodels) (1.16.0)\n"
          ]
        }
      ]
    },
    {
      "cell_type": "code",
      "source": [
        "import pandas as pd\n",
        "import duckdb\n",
        "import plotly.graph_objects as go\n",
        "import plotly.express as px\n",
        "import warnings\n",
        "warnings.filterwarnings('ignore')"
      ],
      "metadata": {
        "id": "yJ1Xuvr_tyU7"
      },
      "execution_count": null,
      "outputs": []
    },
    {
      "cell_type": "code",
      "source": [
        "df = pd.read_csv('/content/extended_supply_chain_data_3000.csv')\n",
        "\n",
        "df.head()"
      ],
      "metadata": {
        "colab": {
          "base_uri": "https://localhost:8080/",
          "height": 394
        },
        "id": "4dNLw1BNt3A0",
        "outputId": "56651233-c743-4f8c-9b8b-1f552e4052b6"
      },
      "execution_count": null,
      "outputs": [
        {
          "output_type": "execute_result",
          "data": {
            "text/plain": [
              "  Product type   SKU      Price  Availability  Number of products sold  \\\n",
              "0     haircare  SKU0  69.808006            55                      802   \n",
              "1     skincare  SKU1  14.843523            95                      736   \n",
              "2     haircare  SKU2  11.319683            34                        8   \n",
              "3     skincare  SKU3  61.163343            68                       83   \n",
              "4     skincare  SKU4   4.805496            26                      871   \n",
              "\n",
              "   Revenue generated Customer demographics  Stock levels  Lead times  \\\n",
              "0        8661.996792            Non-binary            58           7   \n",
              "1        7460.900065                Female            53          30   \n",
              "2        9577.749626               Unknown             1          10   \n",
              "3        7766.836426            Non-binary            23          13   \n",
              "4        2686.505152            Non-binary             5           3   \n",
              "\n",
              "   Order quantities  ...  Location Lead time  Production volumes  \\\n",
              "0                96  ...    Mumbai        29                 215   \n",
              "1                37  ...    Mumbai        23                 517   \n",
              "2                88  ...    Mumbai        12                 971   \n",
              "3                59  ...   Kolkata        24                 937   \n",
              "4                56  ...     Delhi         5                 414   \n",
              "\n",
              "  Manufacturing lead time Manufacturing costs  Inspection results  \\\n",
              "0                      29           46.279879             Pending   \n",
              "1                      30           33.616769             Pending   \n",
              "2                      27           30.688019             Pending   \n",
              "3                      18           35.624741                Fail   \n",
              "4                       3           92.065161                Fail   \n",
              "\n",
              "   Defect rates  Transportation modes   Routes       Costs  \n",
              "0      0.226410                  Road  Route B  187.752075  \n",
              "1      4.854068                  Road  Route B  503.065579  \n",
              "2      4.580593                   Air  Route C  141.920282  \n",
              "3      4.746649                  Rail  Route A  254.776159  \n",
              "4      3.145580                   Air  Route A  923.440632  \n",
              "\n",
              "[5 rows x 24 columns]"
            ],
            "text/html": [
              "\n",
              "  <div id=\"df-71d13d50-cdb9-4f99-afe0-ca1ae081c41a\" class=\"colab-df-container\">\n",
              "    <div>\n",
              "<style scoped>\n",
              "    .dataframe tbody tr th:only-of-type {\n",
              "        vertical-align: middle;\n",
              "    }\n",
              "\n",
              "    .dataframe tbody tr th {\n",
              "        vertical-align: top;\n",
              "    }\n",
              "\n",
              "    .dataframe thead th {\n",
              "        text-align: right;\n",
              "    }\n",
              "</style>\n",
              "<table border=\"1\" class=\"dataframe\">\n",
              "  <thead>\n",
              "    <tr style=\"text-align: right;\">\n",
              "      <th></th>\n",
              "      <th>Product type</th>\n",
              "      <th>SKU</th>\n",
              "      <th>Price</th>\n",
              "      <th>Availability</th>\n",
              "      <th>Number of products sold</th>\n",
              "      <th>Revenue generated</th>\n",
              "      <th>Customer demographics</th>\n",
              "      <th>Stock levels</th>\n",
              "      <th>Lead times</th>\n",
              "      <th>Order quantities</th>\n",
              "      <th>...</th>\n",
              "      <th>Location</th>\n",
              "      <th>Lead time</th>\n",
              "      <th>Production volumes</th>\n",
              "      <th>Manufacturing lead time</th>\n",
              "      <th>Manufacturing costs</th>\n",
              "      <th>Inspection results</th>\n",
              "      <th>Defect rates</th>\n",
              "      <th>Transportation modes</th>\n",
              "      <th>Routes</th>\n",
              "      <th>Costs</th>\n",
              "    </tr>\n",
              "  </thead>\n",
              "  <tbody>\n",
              "    <tr>\n",
              "      <th>0</th>\n",
              "      <td>haircare</td>\n",
              "      <td>SKU0</td>\n",
              "      <td>69.808006</td>\n",
              "      <td>55</td>\n",
              "      <td>802</td>\n",
              "      <td>8661.996792</td>\n",
              "      <td>Non-binary</td>\n",
              "      <td>58</td>\n",
              "      <td>7</td>\n",
              "      <td>96</td>\n",
              "      <td>...</td>\n",
              "      <td>Mumbai</td>\n",
              "      <td>29</td>\n",
              "      <td>215</td>\n",
              "      <td>29</td>\n",
              "      <td>46.279879</td>\n",
              "      <td>Pending</td>\n",
              "      <td>0.226410</td>\n",
              "      <td>Road</td>\n",
              "      <td>Route B</td>\n",
              "      <td>187.752075</td>\n",
              "    </tr>\n",
              "    <tr>\n",
              "      <th>1</th>\n",
              "      <td>skincare</td>\n",
              "      <td>SKU1</td>\n",
              "      <td>14.843523</td>\n",
              "      <td>95</td>\n",
              "      <td>736</td>\n",
              "      <td>7460.900065</td>\n",
              "      <td>Female</td>\n",
              "      <td>53</td>\n",
              "      <td>30</td>\n",
              "      <td>37</td>\n",
              "      <td>...</td>\n",
              "      <td>Mumbai</td>\n",
              "      <td>23</td>\n",
              "      <td>517</td>\n",
              "      <td>30</td>\n",
              "      <td>33.616769</td>\n",
              "      <td>Pending</td>\n",
              "      <td>4.854068</td>\n",
              "      <td>Road</td>\n",
              "      <td>Route B</td>\n",
              "      <td>503.065579</td>\n",
              "    </tr>\n",
              "    <tr>\n",
              "      <th>2</th>\n",
              "      <td>haircare</td>\n",
              "      <td>SKU2</td>\n",
              "      <td>11.319683</td>\n",
              "      <td>34</td>\n",
              "      <td>8</td>\n",
              "      <td>9577.749626</td>\n",
              "      <td>Unknown</td>\n",
              "      <td>1</td>\n",
              "      <td>10</td>\n",
              "      <td>88</td>\n",
              "      <td>...</td>\n",
              "      <td>Mumbai</td>\n",
              "      <td>12</td>\n",
              "      <td>971</td>\n",
              "      <td>27</td>\n",
              "      <td>30.688019</td>\n",
              "      <td>Pending</td>\n",
              "      <td>4.580593</td>\n",
              "      <td>Air</td>\n",
              "      <td>Route C</td>\n",
              "      <td>141.920282</td>\n",
              "    </tr>\n",
              "    <tr>\n",
              "      <th>3</th>\n",
              "      <td>skincare</td>\n",
              "      <td>SKU3</td>\n",
              "      <td>61.163343</td>\n",
              "      <td>68</td>\n",
              "      <td>83</td>\n",
              "      <td>7766.836426</td>\n",
              "      <td>Non-binary</td>\n",
              "      <td>23</td>\n",
              "      <td>13</td>\n",
              "      <td>59</td>\n",
              "      <td>...</td>\n",
              "      <td>Kolkata</td>\n",
              "      <td>24</td>\n",
              "      <td>937</td>\n",
              "      <td>18</td>\n",
              "      <td>35.624741</td>\n",
              "      <td>Fail</td>\n",
              "      <td>4.746649</td>\n",
              "      <td>Rail</td>\n",
              "      <td>Route A</td>\n",
              "      <td>254.776159</td>\n",
              "    </tr>\n",
              "    <tr>\n",
              "      <th>4</th>\n",
              "      <td>skincare</td>\n",
              "      <td>SKU4</td>\n",
              "      <td>4.805496</td>\n",
              "      <td>26</td>\n",
              "      <td>871</td>\n",
              "      <td>2686.505152</td>\n",
              "      <td>Non-binary</td>\n",
              "      <td>5</td>\n",
              "      <td>3</td>\n",
              "      <td>56</td>\n",
              "      <td>...</td>\n",
              "      <td>Delhi</td>\n",
              "      <td>5</td>\n",
              "      <td>414</td>\n",
              "      <td>3</td>\n",
              "      <td>92.065161</td>\n",
              "      <td>Fail</td>\n",
              "      <td>3.145580</td>\n",
              "      <td>Air</td>\n",
              "      <td>Route A</td>\n",
              "      <td>923.440632</td>\n",
              "    </tr>\n",
              "  </tbody>\n",
              "</table>\n",
              "<p>5 rows × 24 columns</p>\n",
              "</div>\n",
              "    <div class=\"colab-df-buttons\">\n",
              "\n",
              "  <div class=\"colab-df-container\">\n",
              "    <button class=\"colab-df-convert\" onclick=\"convertToInteractive('df-71d13d50-cdb9-4f99-afe0-ca1ae081c41a')\"\n",
              "            title=\"Convert this dataframe to an interactive table.\"\n",
              "            style=\"display:none;\">\n",
              "\n",
              "  <svg xmlns=\"http://www.w3.org/2000/svg\" height=\"24px\" viewBox=\"0 -960 960 960\">\n",
              "    <path d=\"M120-120v-720h720v720H120Zm60-500h600v-160H180v160Zm220 220h160v-160H400v160Zm0 220h160v-160H400v160ZM180-400h160v-160H180v160Zm440 0h160v-160H620v160ZM180-180h160v-160H180v160Zm440 0h160v-160H620v160Z\"/>\n",
              "  </svg>\n",
              "    </button>\n",
              "\n",
              "  <style>\n",
              "    .colab-df-container {\n",
              "      display:flex;\n",
              "      gap: 12px;\n",
              "    }\n",
              "\n",
              "    .colab-df-convert {\n",
              "      background-color: #E8F0FE;\n",
              "      border: none;\n",
              "      border-radius: 50%;\n",
              "      cursor: pointer;\n",
              "      display: none;\n",
              "      fill: #1967D2;\n",
              "      height: 32px;\n",
              "      padding: 0 0 0 0;\n",
              "      width: 32px;\n",
              "    }\n",
              "\n",
              "    .colab-df-convert:hover {\n",
              "      background-color: #E2EBFA;\n",
              "      box-shadow: 0px 1px 2px rgba(60, 64, 67, 0.3), 0px 1px 3px 1px rgba(60, 64, 67, 0.15);\n",
              "      fill: #174EA6;\n",
              "    }\n",
              "\n",
              "    .colab-df-buttons div {\n",
              "      margin-bottom: 4px;\n",
              "    }\n",
              "\n",
              "    [theme=dark] .colab-df-convert {\n",
              "      background-color: #3B4455;\n",
              "      fill: #D2E3FC;\n",
              "    }\n",
              "\n",
              "    [theme=dark] .colab-df-convert:hover {\n",
              "      background-color: #434B5C;\n",
              "      box-shadow: 0px 1px 3px 1px rgba(0, 0, 0, 0.15);\n",
              "      filter: drop-shadow(0px 1px 2px rgba(0, 0, 0, 0.3));\n",
              "      fill: #FFFFFF;\n",
              "    }\n",
              "  </style>\n",
              "\n",
              "    <script>\n",
              "      const buttonEl =\n",
              "        document.querySelector('#df-71d13d50-cdb9-4f99-afe0-ca1ae081c41a button.colab-df-convert');\n",
              "      buttonEl.style.display =\n",
              "        google.colab.kernel.accessAllowed ? 'block' : 'none';\n",
              "\n",
              "      async function convertToInteractive(key) {\n",
              "        const element = document.querySelector('#df-71d13d50-cdb9-4f99-afe0-ca1ae081c41a');\n",
              "        const dataTable =\n",
              "          await google.colab.kernel.invokeFunction('convertToInteractive',\n",
              "                                                    [key], {});\n",
              "        if (!dataTable) return;\n",
              "\n",
              "        const docLinkHtml = 'Like what you see? Visit the ' +\n",
              "          '<a target=\"_blank\" href=https://colab.research.google.com/notebooks/data_table.ipynb>data table notebook</a>'\n",
              "          + ' to learn more about interactive tables.';\n",
              "        element.innerHTML = '';\n",
              "        dataTable['output_type'] = 'display_data';\n",
              "        await google.colab.output.renderOutput(dataTable, element);\n",
              "        const docLink = document.createElement('div');\n",
              "        docLink.innerHTML = docLinkHtml;\n",
              "        element.appendChild(docLink);\n",
              "      }\n",
              "    </script>\n",
              "  </div>\n",
              "\n",
              "\n",
              "<div id=\"df-3e86b927-a59c-4cdb-b8e4-6f2c9d459b24\">\n",
              "  <button class=\"colab-df-quickchart\" onclick=\"quickchart('df-3e86b927-a59c-4cdb-b8e4-6f2c9d459b24')\"\n",
              "            title=\"Suggest charts\"\n",
              "            style=\"display:none;\">\n",
              "\n",
              "<svg xmlns=\"http://www.w3.org/2000/svg\" height=\"24px\"viewBox=\"0 0 24 24\"\n",
              "     width=\"24px\">\n",
              "    <g>\n",
              "        <path d=\"M19 3H5c-1.1 0-2 .9-2 2v14c0 1.1.9 2 2 2h14c1.1 0 2-.9 2-2V5c0-1.1-.9-2-2-2zM9 17H7v-7h2v7zm4 0h-2V7h2v10zm4 0h-2v-4h2v4z\"/>\n",
              "    </g>\n",
              "</svg>\n",
              "  </button>\n",
              "\n",
              "<style>\n",
              "  .colab-df-quickchart {\n",
              "      --bg-color: #E8F0FE;\n",
              "      --fill-color: #1967D2;\n",
              "      --hover-bg-color: #E2EBFA;\n",
              "      --hover-fill-color: #174EA6;\n",
              "      --disabled-fill-color: #AAA;\n",
              "      --disabled-bg-color: #DDD;\n",
              "  }\n",
              "\n",
              "  [theme=dark] .colab-df-quickchart {\n",
              "      --bg-color: #3B4455;\n",
              "      --fill-color: #D2E3FC;\n",
              "      --hover-bg-color: #434B5C;\n",
              "      --hover-fill-color: #FFFFFF;\n",
              "      --disabled-bg-color: #3B4455;\n",
              "      --disabled-fill-color: #666;\n",
              "  }\n",
              "\n",
              "  .colab-df-quickchart {\n",
              "    background-color: var(--bg-color);\n",
              "    border: none;\n",
              "    border-radius: 50%;\n",
              "    cursor: pointer;\n",
              "    display: none;\n",
              "    fill: var(--fill-color);\n",
              "    height: 32px;\n",
              "    padding: 0;\n",
              "    width: 32px;\n",
              "  }\n",
              "\n",
              "  .colab-df-quickchart:hover {\n",
              "    background-color: var(--hover-bg-color);\n",
              "    box-shadow: 0 1px 2px rgba(60, 64, 67, 0.3), 0 1px 3px 1px rgba(60, 64, 67, 0.15);\n",
              "    fill: var(--button-hover-fill-color);\n",
              "  }\n",
              "\n",
              "  .colab-df-quickchart-complete:disabled,\n",
              "  .colab-df-quickchart-complete:disabled:hover {\n",
              "    background-color: var(--disabled-bg-color);\n",
              "    fill: var(--disabled-fill-color);\n",
              "    box-shadow: none;\n",
              "  }\n",
              "\n",
              "  .colab-df-spinner {\n",
              "    border: 2px solid var(--fill-color);\n",
              "    border-color: transparent;\n",
              "    border-bottom-color: var(--fill-color);\n",
              "    animation:\n",
              "      spin 1s steps(1) infinite;\n",
              "  }\n",
              "\n",
              "  @keyframes spin {\n",
              "    0% {\n",
              "      border-color: transparent;\n",
              "      border-bottom-color: var(--fill-color);\n",
              "      border-left-color: var(--fill-color);\n",
              "    }\n",
              "    20% {\n",
              "      border-color: transparent;\n",
              "      border-left-color: var(--fill-color);\n",
              "      border-top-color: var(--fill-color);\n",
              "    }\n",
              "    30% {\n",
              "      border-color: transparent;\n",
              "      border-left-color: var(--fill-color);\n",
              "      border-top-color: var(--fill-color);\n",
              "      border-right-color: var(--fill-color);\n",
              "    }\n",
              "    40% {\n",
              "      border-color: transparent;\n",
              "      border-right-color: var(--fill-color);\n",
              "      border-top-color: var(--fill-color);\n",
              "    }\n",
              "    60% {\n",
              "      border-color: transparent;\n",
              "      border-right-color: var(--fill-color);\n",
              "    }\n",
              "    80% {\n",
              "      border-color: transparent;\n",
              "      border-right-color: var(--fill-color);\n",
              "      border-bottom-color: var(--fill-color);\n",
              "    }\n",
              "    90% {\n",
              "      border-color: transparent;\n",
              "      border-bottom-color: var(--fill-color);\n",
              "    }\n",
              "  }\n",
              "</style>\n",
              "\n",
              "  <script>\n",
              "    async function quickchart(key) {\n",
              "      const quickchartButtonEl =\n",
              "        document.querySelector('#' + key + ' button');\n",
              "      quickchartButtonEl.disabled = true;  // To prevent multiple clicks.\n",
              "      quickchartButtonEl.classList.add('colab-df-spinner');\n",
              "      try {\n",
              "        const charts = await google.colab.kernel.invokeFunction(\n",
              "            'suggestCharts', [key], {});\n",
              "      } catch (error) {\n",
              "        console.error('Error during call to suggestCharts:', error);\n",
              "      }\n",
              "      quickchartButtonEl.classList.remove('colab-df-spinner');\n",
              "      quickchartButtonEl.classList.add('colab-df-quickchart-complete');\n",
              "    }\n",
              "    (() => {\n",
              "      let quickchartButtonEl =\n",
              "        document.querySelector('#df-3e86b927-a59c-4cdb-b8e4-6f2c9d459b24 button');\n",
              "      quickchartButtonEl.style.display =\n",
              "        google.colab.kernel.accessAllowed ? 'block' : 'none';\n",
              "    })();\n",
              "  </script>\n",
              "</div>\n",
              "\n",
              "    </div>\n",
              "  </div>\n"
            ],
            "application/vnd.google.colaboratory.intrinsic+json": {
              "type": "dataframe",
              "variable_name": "df"
            }
          },
          "metadata": {},
          "execution_count": 4
        }
      ]
    },
    {
      "cell_type": "code",
      "source": [
        "df.columns"
      ],
      "metadata": {
        "colab": {
          "base_uri": "https://localhost:8080/"
        },
        "id": "3m1dNF2Zt7Dn",
        "outputId": "8555c0a1-0bea-453f-f399-01cea3eabbe2"
      },
      "execution_count": null,
      "outputs": [
        {
          "output_type": "execute_result",
          "data": {
            "text/plain": [
              "Index(['Product type', 'SKU', 'Price', 'Availability',\n",
              "       'Number of products sold', 'Revenue generated', 'Customer demographics',\n",
              "       'Stock levels', 'Lead times', 'Order quantities', 'Shipping times',\n",
              "       'Shipping carriers', 'Shipping costs', 'Supplier name', 'Location',\n",
              "       'Lead time', 'Production volumes', 'Manufacturing lead time',\n",
              "       'Manufacturing costs', 'Inspection results', 'Defect rates',\n",
              "       'Transportation modes', 'Routes', 'Costs'],\n",
              "      dtype='object')"
            ]
          },
          "metadata": {},
          "execution_count": 5
        }
      ]
    },
    {
      "cell_type": "code",
      "source": [
        "df.shape"
      ],
      "metadata": {
        "colab": {
          "base_uri": "https://localhost:8080/"
        },
        "id": "I1KVX-tf0irT",
        "outputId": "4d1067fc-a508-4b68-db60-a69222936e75"
      },
      "execution_count": null,
      "outputs": [
        {
          "output_type": "execute_result",
          "data": {
            "text/plain": [
              "(3100, 24)"
            ]
          },
          "metadata": {},
          "execution_count": 6
        }
      ]
    },
    {
      "cell_type": "code",
      "source": [
        "df.info()"
      ],
      "metadata": {
        "colab": {
          "base_uri": "https://localhost:8080/"
        },
        "id": "PB-tuD5Jt9Et",
        "outputId": "793113a6-7d62-421e-cf99-6efb59a05aee"
      },
      "execution_count": null,
      "outputs": [
        {
          "output_type": "stream",
          "name": "stdout",
          "text": [
            "<class 'pandas.core.frame.DataFrame'>\n",
            "RangeIndex: 3100 entries, 0 to 3099\n",
            "Data columns (total 24 columns):\n",
            " #   Column                   Non-Null Count  Dtype  \n",
            "---  ------                   --------------  -----  \n",
            " 0   Product type             3100 non-null   object \n",
            " 1   SKU                      3100 non-null   object \n",
            " 2   Price                    3100 non-null   float64\n",
            " 3   Availability             3100 non-null   int64  \n",
            " 4   Number of products sold  3100 non-null   int64  \n",
            " 5   Revenue generated        3100 non-null   float64\n",
            " 6   Customer demographics    3100 non-null   object \n",
            " 7   Stock levels             3100 non-null   int64  \n",
            " 8   Lead times               3100 non-null   int64  \n",
            " 9   Order quantities         3100 non-null   int64  \n",
            " 10  Shipping times           3100 non-null   int64  \n",
            " 11  Shipping carriers        3100 non-null   object \n",
            " 12  Shipping costs           3100 non-null   float64\n",
            " 13  Supplier name            3100 non-null   object \n",
            " 14  Location                 3100 non-null   object \n",
            " 15  Lead time                3100 non-null   int64  \n",
            " 16  Production volumes       3100 non-null   int64  \n",
            " 17  Manufacturing lead time  3100 non-null   int64  \n",
            " 18  Manufacturing costs      3100 non-null   float64\n",
            " 19  Inspection results       3100 non-null   object \n",
            " 20  Defect rates             3100 non-null   float64\n",
            " 21  Transportation modes     3100 non-null   object \n",
            " 22  Routes                   3100 non-null   object \n",
            " 23  Costs                    3100 non-null   float64\n",
            "dtypes: float64(6), int64(9), object(9)\n",
            "memory usage: 581.4+ KB\n"
          ]
        }
      ]
    },
    {
      "cell_type": "code",
      "source": [
        "df.isnull().sum()"
      ],
      "metadata": {
        "colab": {
          "base_uri": "https://localhost:8080/",
          "height": 836
        },
        "id": "D3RiBZ36t_NZ",
        "outputId": "d247368c-051c-4357-c2d6-e23b86f68726"
      },
      "execution_count": null,
      "outputs": [
        {
          "output_type": "execute_result",
          "data": {
            "text/plain": [
              "Product type               0\n",
              "SKU                        0\n",
              "Price                      0\n",
              "Availability               0\n",
              "Number of products sold    0\n",
              "Revenue generated          0\n",
              "Customer demographics      0\n",
              "Stock levels               0\n",
              "Lead times                 0\n",
              "Order quantities           0\n",
              "Shipping times             0\n",
              "Shipping carriers          0\n",
              "Shipping costs             0\n",
              "Supplier name              0\n",
              "Location                   0\n",
              "Lead time                  0\n",
              "Production volumes         0\n",
              "Manufacturing lead time    0\n",
              "Manufacturing costs        0\n",
              "Inspection results         0\n",
              "Defect rates               0\n",
              "Transportation modes       0\n",
              "Routes                     0\n",
              "Costs                      0\n",
              "dtype: int64"
            ],
            "text/html": [
              "<div>\n",
              "<style scoped>\n",
              "    .dataframe tbody tr th:only-of-type {\n",
              "        vertical-align: middle;\n",
              "    }\n",
              "\n",
              "    .dataframe tbody tr th {\n",
              "        vertical-align: top;\n",
              "    }\n",
              "\n",
              "    .dataframe thead th {\n",
              "        text-align: right;\n",
              "    }\n",
              "</style>\n",
              "<table border=\"1\" class=\"dataframe\">\n",
              "  <thead>\n",
              "    <tr style=\"text-align: right;\">\n",
              "      <th></th>\n",
              "      <th>0</th>\n",
              "    </tr>\n",
              "  </thead>\n",
              "  <tbody>\n",
              "    <tr>\n",
              "      <th>Product type</th>\n",
              "      <td>0</td>\n",
              "    </tr>\n",
              "    <tr>\n",
              "      <th>SKU</th>\n",
              "      <td>0</td>\n",
              "    </tr>\n",
              "    <tr>\n",
              "      <th>Price</th>\n",
              "      <td>0</td>\n",
              "    </tr>\n",
              "    <tr>\n",
              "      <th>Availability</th>\n",
              "      <td>0</td>\n",
              "    </tr>\n",
              "    <tr>\n",
              "      <th>Number of products sold</th>\n",
              "      <td>0</td>\n",
              "    </tr>\n",
              "    <tr>\n",
              "      <th>Revenue generated</th>\n",
              "      <td>0</td>\n",
              "    </tr>\n",
              "    <tr>\n",
              "      <th>Customer demographics</th>\n",
              "      <td>0</td>\n",
              "    </tr>\n",
              "    <tr>\n",
              "      <th>Stock levels</th>\n",
              "      <td>0</td>\n",
              "    </tr>\n",
              "    <tr>\n",
              "      <th>Lead times</th>\n",
              "      <td>0</td>\n",
              "    </tr>\n",
              "    <tr>\n",
              "      <th>Order quantities</th>\n",
              "      <td>0</td>\n",
              "    </tr>\n",
              "    <tr>\n",
              "      <th>Shipping times</th>\n",
              "      <td>0</td>\n",
              "    </tr>\n",
              "    <tr>\n",
              "      <th>Shipping carriers</th>\n",
              "      <td>0</td>\n",
              "    </tr>\n",
              "    <tr>\n",
              "      <th>Shipping costs</th>\n",
              "      <td>0</td>\n",
              "    </tr>\n",
              "    <tr>\n",
              "      <th>Supplier name</th>\n",
              "      <td>0</td>\n",
              "    </tr>\n",
              "    <tr>\n",
              "      <th>Location</th>\n",
              "      <td>0</td>\n",
              "    </tr>\n",
              "    <tr>\n",
              "      <th>Lead time</th>\n",
              "      <td>0</td>\n",
              "    </tr>\n",
              "    <tr>\n",
              "      <th>Production volumes</th>\n",
              "      <td>0</td>\n",
              "    </tr>\n",
              "    <tr>\n",
              "      <th>Manufacturing lead time</th>\n",
              "      <td>0</td>\n",
              "    </tr>\n",
              "    <tr>\n",
              "      <th>Manufacturing costs</th>\n",
              "      <td>0</td>\n",
              "    </tr>\n",
              "    <tr>\n",
              "      <th>Inspection results</th>\n",
              "      <td>0</td>\n",
              "    </tr>\n",
              "    <tr>\n",
              "      <th>Defect rates</th>\n",
              "      <td>0</td>\n",
              "    </tr>\n",
              "    <tr>\n",
              "      <th>Transportation modes</th>\n",
              "      <td>0</td>\n",
              "    </tr>\n",
              "    <tr>\n",
              "      <th>Routes</th>\n",
              "      <td>0</td>\n",
              "    </tr>\n",
              "    <tr>\n",
              "      <th>Costs</th>\n",
              "      <td>0</td>\n",
              "    </tr>\n",
              "  </tbody>\n",
              "</table>\n",
              "</div><br><label><b>dtype:</b> int64</label>"
            ]
          },
          "metadata": {},
          "execution_count": 8
        }
      ]
    },
    {
      "cell_type": "code",
      "source": [
        "if df.duplicated().any():\n",
        "    print(f\"There are as many as {df.duplicated().sum()} duplicate data.\")\n",
        "else:\n",
        "    print(\"There are no duplicate data.\")"
      ],
      "metadata": {
        "colab": {
          "base_uri": "https://localhost:8080/"
        },
        "id": "ltnPQdl1uBxf",
        "outputId": "83f46067-7da2-4c33-c1da-84023ea835a2"
      },
      "execution_count": null,
      "outputs": [
        {
          "output_type": "stream",
          "name": "stdout",
          "text": [
            "There are no duplicate data.\n"
          ]
        }
      ]
    },
    {
      "cell_type": "code",
      "source": [
        "product_counts = df['Product type'].value_counts()\n",
        "\n",
        "# Print the counts\n",
        "print(product_counts)\n"
      ],
      "metadata": {
        "colab": {
          "base_uri": "https://localhost:8080/"
        },
        "id": "zeBFZpQRqPcp",
        "outputId": "6c2f926f-b05f-41a2-a390-3313384ba2fe"
      },
      "execution_count": null,
      "outputs": [
        {
          "output_type": "stream",
          "name": "stdout",
          "text": [
            "Product type\n",
            "cosmetics    1057\n",
            "haircare     1033\n",
            "skincare     1010\n",
            "Name: count, dtype: int64\n"
          ]
        }
      ]
    },
    {
      "cell_type": "code",
      "source": [],
      "metadata": {
        "id": "7MtFCu_hqbLS"
      },
      "execution_count": null,
      "outputs": []
    },
    {
      "cell_type": "code",
      "source": [
        "print(df.describe())"
      ],
      "metadata": {
        "colab": {
          "base_uri": "https://localhost:8080/"
        },
        "id": "HDtLWdDu0V-a",
        "outputId": "1fe4ba3d-b791-407a-e04f-2c4773634211"
      },
      "execution_count": null,
      "outputs": [
        {
          "output_type": "stream",
          "name": "stdout",
          "text": [
            "             Price  Availability  Number of products sold  Revenue generated  \\\n",
            "count  3100.000000   3100.000000              3100.000000        3100.000000   \n",
            "mean     52.241505     49.910645               504.303871        5561.130916   \n",
            "std      27.580929     28.648172               288.454180        2547.409148   \n",
            "min       1.699976      1.000000                 0.000000        1004.960000   \n",
            "25%      28.082500     25.000000               252.750000        3376.865000   \n",
            "50%      51.625000     50.000000               501.000000        5593.450000   \n",
            "75%      76.500000     75.000000               756.000000        7721.702500   \n",
            "max     100.000000    100.000000               999.000000        9999.980000   \n",
            "\n",
            "       Stock levels   Lead times  Order quantities  Shipping times  \\\n",
            "count   3100.000000  3100.000000       3100.000000     3100.000000   \n",
            "mean      48.816774    15.123871         49.852903       14.645161   \n",
            "std       28.686936     8.485594         28.511943        8.361463   \n",
            "min        0.000000     1.000000          1.000000        1.000000   \n",
            "25%       24.000000     8.000000         25.000000        7.000000   \n",
            "50%       49.000000    15.000000         49.000000       14.000000   \n",
            "75%       73.000000    23.000000         75.000000       22.000000   \n",
            "max      100.000000    30.000000         99.000000       29.000000   \n",
            "\n",
            "       Shipping costs    Lead time  Production volumes  \\\n",
            "count     3100.000000  3100.000000         3100.000000   \n",
            "mean       509.397714    15.108710          553.556129   \n",
            "std        283.673196     8.404204          262.214635   \n",
            "min          1.013487     1.000000          100.000000   \n",
            "25%        261.572500     8.000000          323.750000   \n",
            "50%        507.935000    15.000000          559.000000   \n",
            "75%        751.335000    23.000000          786.000000   \n",
            "max        999.810000    30.000000          999.000000   \n",
            "\n",
            "       Manufacturing lead time  Manufacturing costs  Defect rates        Costs  \n",
            "count              3100.000000          3100.000000   3100.000000  3100.000000  \n",
            "mean                 15.172258            59.733458      2.483337   549.738790  \n",
            "std                   8.388556            23.385869      1.452022   256.154013  \n",
            "min                   1.000000             1.085069      0.002406   100.080000  \n",
            "25%                   8.000000            39.287500      1.223642   333.220000  \n",
            "50%                  15.000000            60.130000      2.483271   549.760000  \n",
            "75%                  23.000000            79.530000      3.702245   768.937500  \n",
            "max                  30.000000            99.990000      4.998531   999.640000  \n"
          ]
        }
      ]
    },
    {
      "cell_type": "markdown",
      "source": [
        "#DASHBOARD CODE"
      ],
      "metadata": {
        "id": "omzBTWHgMFVS"
      }
    },
    {
      "cell_type": "code",
      "source": [
        "query = \"\"\"\n",
        "    SELECT SUM(\"Revenue generated\")::DECIMAL(15, 2) AS total_revenue\n",
        "    FROM df\n",
        "\"\"\"\n",
        "result = duckdb.query(query).df()\n",
        "print(result)\n"
      ],
      "metadata": {
        "colab": {
          "base_uri": "https://localhost:8080/"
        },
        "id": "q9bguAWBuEJN",
        "outputId": "f27a1a99-c71f-4e83-ff1a-875e62b1ea61"
      },
      "execution_count": null,
      "outputs": [
        {
          "output_type": "stream",
          "name": "stdout",
          "text": [
            "   total_revenue\n",
            "0    17239505.84\n"
          ]
        }
      ]
    },
    {
      "cell_type": "code",
      "source": [
        "import plotly.graph_objects as go\n",
        "import plotly.io as pio\n",
        "\n",
        "# Ensure Plotly works in Colab\n",
        "pio.renderers.default = 'colab'\n",
        "\n",
        "# Indicator figure\n",
        "fig = go.Figure()\n",
        "\n",
        "fig.add_trace(go.Indicator(\n",
        "    mode=\"number\",\n",
        "    value=total_revenue,\n",
        "    title={\"text\": \"Total Revenue Generated\"},\n",
        "    number={'prefix': \"$\", 'valueformat': \".2f\"},\n",
        "    domain={'x': [0, 1], 'y': [0, 1]}\n",
        "))\n",
        "\n",
        "fig.update_layout(\n",
        "    font=dict(size=18),\n",
        "    font_color='white',  # White font color for dark backgrounds\n",
        "    paper_bgcolor='black',  # Set solid background for visibility\n",
        "    plot_bgcolor='black'\n",
        ")\n",
        "\n",
        "fig.show()\n"
      ],
      "metadata": {
        "colab": {
          "base_uri": "https://localhost:8080/",
          "height": 211
        },
        "id": "czbXWvjZMPyj",
        "outputId": "bec97a33-8621-4f5c-c697-5871fce3a474"
      },
      "execution_count": null,
      "outputs": [
        {
          "output_type": "error",
          "ename": "NameError",
          "evalue": "name 'total_revenue' is not defined",
          "traceback": [
            "\u001b[0;31m---------------------------------------------------------------------------\u001b[0m",
            "\u001b[0;31mNameError\u001b[0m                                 Traceback (most recent call last)",
            "\u001b[0;32m<ipython-input-13-c1010356ff7d>\u001b[0m in \u001b[0;36m<cell line: 10>\u001b[0;34m()\u001b[0m\n\u001b[1;32m     10\u001b[0m fig.add_trace(go.Indicator(\n\u001b[1;32m     11\u001b[0m     \u001b[0mmode\u001b[0m\u001b[0;34m=\u001b[0m\u001b[0;34m\"number\"\u001b[0m\u001b[0;34m,\u001b[0m\u001b[0;34m\u001b[0m\u001b[0;34m\u001b[0m\u001b[0m\n\u001b[0;32m---> 12\u001b[0;31m     \u001b[0mvalue\u001b[0m\u001b[0;34m=\u001b[0m\u001b[0mtotal_revenue\u001b[0m\u001b[0;34m,\u001b[0m\u001b[0;34m\u001b[0m\u001b[0;34m\u001b[0m\u001b[0m\n\u001b[0m\u001b[1;32m     13\u001b[0m     \u001b[0mtitle\u001b[0m\u001b[0;34m=\u001b[0m\u001b[0;34m{\u001b[0m\u001b[0;34m\"text\"\u001b[0m\u001b[0;34m:\u001b[0m \u001b[0;34m\"Total Revenue Generated\"\u001b[0m\u001b[0;34m}\u001b[0m\u001b[0;34m,\u001b[0m\u001b[0;34m\u001b[0m\u001b[0;34m\u001b[0m\u001b[0m\n\u001b[1;32m     14\u001b[0m     \u001b[0mnumber\u001b[0m\u001b[0;34m=\u001b[0m\u001b[0;34m{\u001b[0m\u001b[0;34m'prefix'\u001b[0m\u001b[0;34m:\u001b[0m \u001b[0;34m\"$\"\u001b[0m\u001b[0;34m,\u001b[0m \u001b[0;34m'valueformat'\u001b[0m\u001b[0;34m:\u001b[0m \u001b[0;34m\".2f\"\u001b[0m\u001b[0;34m}\u001b[0m\u001b[0;34m,\u001b[0m\u001b[0;34m\u001b[0m\u001b[0;34m\u001b[0m\u001b[0m\n",
            "\u001b[0;31mNameError\u001b[0m: name 'total_revenue' is not defined"
          ]
        }
      ]
    },
    {
      "cell_type": "code",
      "source": [
        "query = \"\"\"\n",
        "    SELECT \"Product Type\",\n",
        "           SUM(\"Revenue generated\")::DECIMAL(15, 2) AS total_revenue\n",
        "    FROM df\n",
        "    GROUP BY \"Product Type\"\n",
        "    ORDER BY total_revenue DESC\n",
        "\"\"\"\n",
        "result = duckdb.query(query).df()\n",
        "\n",
        "print(result)"
      ],
      "metadata": {
        "id": "rndoxnqZMWM7"
      },
      "execution_count": null,
      "outputs": []
    },
    {
      "cell_type": "code",
      "source": [
        "fig = px.bar(result,\n",
        "             x='Product type',\n",
        "             y='total_revenue',\n",
        "             title='Revenue Generated by Product Type',\n",
        "             labels={'total_revenue': 'Total Revenue ($)', 'Product Type': 'Product Type'})\n",
        "\n",
        "fig.update_layout(\n",
        "    xaxis_title=\"Product Type\",\n",
        "    yaxis_title=\"Total Revenue ($)\",\n",
        "    yaxis_tickprefix=\"$\",\n",
        "    yaxis_tickformat=\".2f\",\n",
        "    margin=dict(l=40, r=40, t=40, b=40),\n",
        "    font=dict(size=14),\n",
        "    font_color='white',\n",
        "    plot_bgcolor='black',\n",
        "    paper_bgcolor='black',\n",
        "    bargap=0,\n",
        "    bargroupgap=0.1\n",
        ")\n",
        "\n",
        "\n",
        "fig.update_traces(marker=dict(color=['#813cf6', '#15abbd', '#df9def']))\n",
        "fig.show()"
      ],
      "metadata": {
        "id": "N8-bUwb2NPBD"
      },
      "execution_count": null,
      "outputs": []
    },
    {
      "cell_type": "code",
      "source": [
        "query = \"\"\"\n",
        "    SELECT \"location\",\n",
        "           SUM(\"Revenue generated\")::DECIMAL(15, 2) AS total_revenue\n",
        "    FROM df\n",
        "    GROUP BY \"location\"\n",
        "    ORDER BY total_revenue DESC\n",
        "\"\"\"\n",
        "result = duckdb.query(query).df()\n",
        "\n",
        "print(result)"
      ],
      "metadata": {
        "id": "3BFEBagFNios"
      },
      "execution_count": null,
      "outputs": []
    },
    {
      "cell_type": "code",
      "source": [
        "fig = px.pie(result,\n",
        "             values='total_revenue',\n",
        "             names='Location',\n",
        "             title='Revenue Distribution by Location',\n",
        "             labels={'total_revenue': 'Total Revenue ($)', 'Location': 'Location'},\n",
        "             hover_name='Location',\n",
        "             hover_data={'total_revenue': ':,.2f'}\n",
        "            )\n",
        "\n",
        "fig.update_layout(\n",
        "    margin=dict(l=40, r=40, t=40, b=40),\n",
        "    font=dict(size=14, color='white'),\n",
        "    plot_bgcolor='black',\n",
        "    paper_bgcolor='black',\n",
        ")\n",
        "\n",
        "fig.update_traces(marker=dict(colors=['#d62728', '#e377c2', '#ff7f0e', '#ffbb78', '#ff9896']))\n",
        "\n",
        "fig.update_layout(\n",
        "    showlegend=True,\n",
        "    legend=dict(\n",
        "        title='Location',\n",
        "        orientation='v',\n",
        "        yanchor='top',\n",
        "        y=1,\n",
        "        xanchor='left',\n",
        "        x=0\n",
        "    )\n",
        ")\n",
        "\n",
        "fig.show()"
      ],
      "metadata": {
        "id": "ecgRaIoZNqm7"
      },
      "execution_count": null,
      "outputs": []
    },
    {
      "cell_type": "code",
      "source": [
        "import pandas as pd\n",
        "\n",
        "query = \"\"\"\n",
        "    SELECT \"location\",\n",
        "           SUM(\"Revenue generated\") AS total_revenue\n",
        "    FROM df\n",
        "    GROUP BY \"location\"\n",
        "    ORDER BY total_revenue DESC\n",
        "\"\"\"\n",
        "result = duckdb.query(query).df()\n",
        "\n",
        "# Calculate percentage contribution\n",
        "result['percentage_contribution'] = (result['total_revenue'] / result['total_revenue'].sum()) * 100\n",
        "result['percentage_contribution'] = result['percentage_contribution'].round(2)\n",
        "\n",
        "# Sort by total_revenue\n",
        "result = result.sort_values(by='total_revenue', ascending=False)\n",
        "\n",
        "# Format total_revenue for readability\n",
        "result['total_revenue'] = result['total_revenue'].apply(lambda x: f\"${x:,.2f}\")\n",
        "\n",
        "print(result)\n"
      ],
      "metadata": {
        "id": "WpEYM51KOJ29"
      },
      "execution_count": null,
      "outputs": []
    },
    {
      "cell_type": "code",
      "source": [
        "fig = px.bar(result,\n",
        "             x='Location',\n",
        "             y='percentage_contribution',\n",
        "             title='Percentage Contribution of Revenue by Location',\n",
        "             labels={'percentage_contribution': 'Percentage of Total Revenue (%)', 'Location': 'Location'})\n",
        "\n",
        "fig.update_layout(\n",
        "    xaxis_title=\"Location\",\n",
        "    yaxis_title=\"Percentage of Total Revenue (%)\",\n",
        "    yaxis_tickformat=\".2f\",\n",
        "    margin=dict(l=40, r=40, t=40, b=40),\n",
        "    font=dict(size=14),\n",
        "    font_color='white',\n",
        "    plot_bgcolor='black',\n",
        "    paper_bgcolor='black',\n",
        "    bargap=0.2,\n",
        "    bargroupgap=0.1\n",
        ")\n",
        "\n",
        "\n",
        "fig.update_traces(marker=dict(color=['#8808f3', '#cc1b1a', '#265f01', '#6ee377', '#4dc640']))\n",
        "fig.show()"
      ],
      "metadata": {
        "id": "e5fCpBygOvKz"
      },
      "execution_count": null,
      "outputs": []
    },
    {
      "cell_type": "code",
      "source": [
        "query = \"\"\"\n",
        "    SELECT\n",
        "        SUM(\"stock levels\") AS \"Stock Levels\",\n",
        "        SUM(\"Lead Times\") AS \"Lead Times\"\n",
        "    FROM\n",
        "        df;\n",
        "\"\"\"\n",
        "\n",
        "result = duckdb.query(query).df()\n",
        "\n",
        "print(result)"
      ],
      "metadata": {
        "id": "SIh9aiCCO5Nj"
      },
      "execution_count": null,
      "outputs": []
    },
    {
      "cell_type": "code",
      "source": [
        "total_stock_levels = result['Stock Levels'][0]\n",
        "total_lead_times = result['Lead Times'][0]\n",
        "\n",
        "fig_stock_levels = go.Figure(go.Indicator(\n",
        "    mode=\"number+gauge\",\n",
        "    value=total_stock_levels,\n",
        "    # title={'text': \"Total Stock Levels\"},\n",
        "    gauge={\n",
        "        'axis': {'range': [0, max(total_stock_levels, total_lead_times) + 100]},\n",
        "        'bar': {'color': \"rgba(31, 119, 180, 0.8)\"},\n",
        "        'steps': [\n",
        "            {'range': [0, max(total_stock_levels, total_lead_times) / 2], 'color': \"lightgray\"},\n",
        "            {'range': [max(total_stock_levels, total_lead_times) / 2, max(total_stock_levels, total_lead_times)], 'color': \"gray\"}\n",
        "        ],\n",
        "        'threshold': {\n",
        "            'line': {'color': \"red\", 'width': 4},\n",
        "            'thickness': 0.75,\n",
        "            'value': total_stock_levels\n",
        "        }\n",
        "    }\n",
        "))\n",
        "\n",
        "fig_stock_levels.update_layout(\n",
        "    title={'text': \"Total Stock Levels\", 'font': {'size': 20}},\n",
        "    font=dict(size=18, color='white'),\n",
        "    plot_bgcolor='rgba(0, 0, 0, 0)',\n",
        "    paper_bgcolor='rgba(0, 0, 0, 0)',\n",
        ")\n",
        "\n",
        "fig_lead_times = go.Figure(go.Indicator(\n",
        "    mode=\"number+gauge\",\n",
        "    value=total_lead_times,\n",
        "    # title={'text': \"Total Lead Times\"},\n",
        "    gauge={\n",
        "        'axis': {'range': [0, max(total_stock_levels, total_lead_times) + 100]},\n",
        "        'bar': {'color': \"rgba(214, 39, 40, 0.8)\"},\n",
        "        'steps': [\n",
        "            {'range': [0, max(total_stock_levels, total_lead_times) / 2], 'color': \"lightgray\"},\n",
        "            {'range': [max(total_stock_levels, total_lead_times) / 2, max(total_stock_levels, total_lead_times)], 'color': \"gray\"}\n",
        "        ],\n",
        "        'threshold': {\n",
        "            'line': {'color': \"red\", 'width': 4},\n",
        "            'thickness': 0.75,\n",
        "            'value': total_lead_times\n",
        "        }\n",
        "    }\n",
        "))\n",
        "\n",
        "fig_lead_times.update_layout(\n",
        "    title={'text': \"Total Lead Times\", 'font': {'size': 20}},\n",
        "    font=dict(size=18, color='white'),\n",
        "    plot_bgcolor='rgba(0, 0, 0, 0)',\n",
        "    paper_bgcolor='rgba(0, 0, 0, 0)',\n",
        ")\n",
        "\n",
        "fig_stock_levels.show()\n",
        "fig_lead_times.show()"
      ],
      "metadata": {
        "id": "5FN2q1nTO98b"
      },
      "execution_count": null,
      "outputs": []
    },
    {
      "cell_type": "code",
      "source": [
        "query = \"\"\"\n",
        "    SELECT\n",
        "        SUM(\"Order quantities\") AS \"Total Orders Quantity\"\n",
        "    FROM\n",
        "        df;\n",
        "\"\"\"\n",
        "\n",
        "result = duckdb.query(query).fetchall()\n",
        "\n",
        "total_orders_quantity = result[0][0]\n",
        "\n",
        "print(f\"The total quantity of orders placed is: {total_orders_quantity}\")"
      ],
      "metadata": {
        "id": "cAYJ0sDLPKsn"
      },
      "execution_count": null,
      "outputs": []
    },
    {
      "cell_type": "code",
      "source": [
        "total_orders_quantity = result[0][0]\n",
        "\n",
        "fig = go.Figure()\n",
        "\n",
        "fig.add_trace(go.Indicator(\n",
        "    mode=\"number\",\n",
        "    value=total_orders_quantity,\n",
        "    title={\"text\": \"Total Orders Quantity\"},\n",
        "    number={\"valueformat\": \",.0f\"}\n",
        "))\n",
        "\n",
        "fig.update_layout(\n",
        "    font=dict(size=18, color='white'),\n",
        "    margin=dict(l=20, r=20, t=80, b=20),\n",
        "    paper_bgcolor='black',\n",
        ")\n",
        "\n",
        "fig.show()"
      ],
      "metadata": {
        "id": "m42oVSEvPL1T"
      },
      "execution_count": null,
      "outputs": []
    },
    {
      "cell_type": "code",
      "source": [
        "result = df.groupby('Location')['Order quantities'].sum().reset_index()\n",
        "\n",
        "result = result.sort_values(by='Order quantities', ascending=False)\n",
        "\n",
        "print(result)"
      ],
      "metadata": {
        "id": "4Wgn5UuYPR27"
      },
      "execution_count": null,
      "outputs": []
    },
    {
      "cell_type": "code",
      "source": [
        "fig = px.bar(result, x='Location', y='Order quantities',\n",
        "             title='Total Order Quantities by Location',\n",
        "             labels={'Location': 'Location', 'Order quantities': 'Total Order Quantities'},\n",
        "             color='Location',\n",
        "             color_discrete_sequence=px.colors.qualitative.Dark24,\n",
        "             )\n",
        "\n",
        "fig.update_layout(\n",
        "    xaxis_title=\"Location\",\n",
        "    yaxis_title=\"Total Order Quantities\",\n",
        "    font=dict(size=14,color='white'),\n",
        "    plot_bgcolor='black',\n",
        "    paper_bgcolor='black',\n",
        "    bargap=0.1,\n",
        ")\n",
        "\n",
        "fig.show()"
      ],
      "metadata": {
        "id": "1JKlfxxaPVHL"
      },
      "execution_count": null,
      "outputs": []
    },
    {
      "cell_type": "code",
      "source": [
        "costs_by_product = df.groupby('Product type')['Manufacturing costs'].sum().reset_index()\n",
        "\n",
        "costs_by_product['Manufacturing costs'] = costs_by_product['Manufacturing costs'].round(2)\n",
        "\n",
        "costs_by_product = costs_by_product.sort_values(by='Manufacturing costs', ascending=False)\n",
        "\n",
        "print(costs_by_product)"
      ],
      "metadata": {
        "id": "iQJHQmUtPfi0"
      },
      "execution_count": null,
      "outputs": []
    },
    {
      "cell_type": "code",
      "source": [
        "fig = px.bar(costs_by_product,\n",
        "             x='Product type',\n",
        "             y='Manufacturing costs',\n",
        "             title='Manufacturing Costs by Product Type',\n",
        "             labels={'Manufacturing costs': 'Manufacturing Costs ($)', 'Product type': 'Product Type'},\n",
        "             color='Product type',\n",
        "             color_discrete_sequence=px.colors.qualitative.Dark24_r\n",
        "            )\n",
        "\n",
        "fig.update_layout(\n",
        "    xaxis_title=\"Product Type\",\n",
        "    yaxis_title=\"Manufacturing Costs ($)\",\n",
        "    font=dict(size=14, color='White'),\n",
        "    plot_bgcolor='black',\n",
        "    paper_bgcolor='black',\n",
        "    bargap=0.1,\n",
        ")\n",
        "\n",
        "fig.show()"
      ],
      "metadata": {
        "id": "Y17V-NBgPh4D"
      },
      "execution_count": null,
      "outputs": []
    },
    {
      "cell_type": "code",
      "source": [
        "# Calculate sum of price and manufacturing costs for each product type\n",
        "price_costs_by_product = df.groupby('Product type').agg(\n",
        "    Price=('Price', 'sum'),\n",
        "    Manufacturing_costs=('Manufacturing costs', 'sum')\n",
        ").reset_index()\n",
        "\n",
        "# Format sums of price and manufacturing costs\n",
        "price_costs_by_product['Price'] = price_costs_by_product['Price'].round(2)\n",
        "price_costs_by_product['Manufacturing_costs'] = price_costs_by_product['Manufacturing_costs'].round(2)\n",
        "\n",
        "# Calculate difference between price and manufacturing costs\n",
        "price_costs_by_product['Profit_margin'] = (price_costs_by_product['Price'] - price_costs_by_product['Manufacturing_costs']).round(2)\n",
        "\n",
        "price_costs_by_product = price_costs_by_product.sort_values(by='Product type')\n",
        "\n",
        "price_costs_by_product"
      ],
      "metadata": {
        "id": "s3FICZGRPn-8"
      },
      "execution_count": null,
      "outputs": []
    },
    {
      "cell_type": "code",
      "source": [
        "fig = px.bar(price_costs_by_product,\n",
        "             x='Product type',\n",
        "             y=['Price', 'Manufacturing_costs'],\n",
        "             title='Comparison of Price and Manufacturing Costs by Product Type',\n",
        "             labels={'value': 'Cost ($)', 'Product type': 'Product Type', 'variable': 'Cost Type'},\n",
        "             color_discrete_sequence=['#d62728', '#e377c2'],\n",
        "             barmode='group'\n",
        "            )\n",
        "\n",
        "for i, row in price_costs_by_product.iterrows():\n",
        "    fig.add_annotation(\n",
        "        x=row['Product type'],\n",
        "        y=row['Price'] + 5,\n",
        "        text=f\"Profit Margin: ${row['Profit_margin']}\",\n",
        "        showarrow=False,\n",
        "        font=dict(size=10, color='White'),\n",
        "    )\n",
        "\n",
        "fig.update_layout(\n",
        "    xaxis_title=\"Product Type\",\n",
        "    yaxis_title=\"Cost ($)\",\n",
        "    font=dict(size=14, color='White'),\n",
        "    plot_bgcolor='black',\n",
        "    paper_bgcolor='black',\n",
        "    bargap=0.2,\n",
        ")\n",
        "\n",
        "fig.show()"
      ],
      "metadata": {
        "id": "WEUK-756Pul0"
      },
      "execution_count": null,
      "outputs": []
    },
    {
      "cell_type": "code",
      "source": [
        "profitability_by_product = df.groupby('Product type').agg(\n",
        "    Revenue=('Revenue generated', 'sum'),\n",
        "    Cost=('Costs', 'sum')\n",
        ").reset_index()\n",
        "\n",
        "# Calculate profit (Revenue - Cost)\n",
        "profitability_by_product['Profit'] = (profitability_by_product['Revenue'] - profitability_by_product['Cost']).round(2)\n",
        "# Sort by Product type\n",
        "profitability_by_product = profitability_by_product.sort_values(by='Product type')\n",
        "\n",
        "# Format columns for better readability\n",
        "profitability_by_product['Revenue'] = profitability_by_product['Revenue'].apply(lambda x: f\"${x:,.2f}\")\n",
        "profitability_by_product['Cost'] = profitability_by_product['Cost'].apply(lambda x: f\"${x:,.2f}\")\n",
        "profitability_by_product['Profit'] = profitability_by_product['Profit'].apply(lambda x: f\"${x:,.2f}\")\n",
        "\n",
        "print(profitability_by_product)"
      ],
      "metadata": {
        "id": "Uuervd0QP1Kz"
      },
      "execution_count": null,
      "outputs": []
    },
    {
      "cell_type": "code",
      "source": [
        "# Ensure Profit is numeric in case it's formatted as a string\n",
        "profitability_by_product['Profit'] = profitability_by_product['Profit'].replace('[\\$,]', '', regex=True).astype(float)\n",
        "\n",
        "# Plot the bar chart\n",
        "fig = px.bar(profitability_by_product,\n",
        "             x='Product type',\n",
        "             y='Profit',\n",
        "             title='Overall Profitability by Product Type',\n",
        "             labels={'Profit': 'Profit ($)', 'Product type': 'Product Type'},\n",
        "             color='Profit',\n",
        "             color_continuous_scale=px.colors.diverging.RdYlGn,\n",
        "            )\n",
        "\n",
        "fig.update_layout(\n",
        "    xaxis_title=\"Product Type\",\n",
        "    yaxis_title=\"Profit ($)\",\n",
        "    font=dict(size=14, color='white'),\n",
        "    plot_bgcolor='black',\n",
        "    paper_bgcolor='black',\n",
        "    bargap=0.1,\n",
        "    width=800,\n",
        "    height=600\n",
        ")\n",
        "\n",
        "# Manually set y-axis range to accommodate larger bars\n",
        "fig.update_yaxes(range=[0, 5500000])  # Set an appropriate upper limit\n",
        "\n",
        "fig.show()\n"
      ],
      "metadata": {
        "id": "tZ_KjSKYQHmb"
      },
      "execution_count": null,
      "outputs": []
    },
    {
      "cell_type": "code",
      "source": [
        "# Calculate average lead time for each product type\n",
        "average_lead_time_by_product = df.groupby('Product type')['Lead times'].mean().reset_index()\n",
        "\n",
        "# Format the average lead time to 4 decimal places\n",
        "average_lead_time_by_product['Average Lead Time'] = average_lead_time_by_product['Lead times'].round(2)\n",
        "\n",
        "average_lead_time_by_product = average_lead_time_by_product.sort_values(by='Product type')\n",
        "\n",
        "average_lead_time_by_product"
      ],
      "metadata": {
        "id": "oVfvziCwS1zr"
      },
      "execution_count": null,
      "outputs": []
    },
    {
      "cell_type": "code",
      "source": [
        "fig = px.bar(average_lead_time_by_product,\n",
        "             x='Product type',\n",
        "             y='Average Lead Time',\n",
        "             title='Average Lead Time by Product Type',\n",
        "             labels={'Average Lead Time': 'Average Lead Time (days)', 'Product type': 'Product Type'},\n",
        "             color='Average Lead Time',\n",
        "             color_continuous_scale='viridis',\n",
        "            )\n",
        "\n",
        "fig.update_layout(\n",
        "    xaxis_title=\"Product Type\",\n",
        "    yaxis_title=\"Average Lead Time (days)\",\n",
        "    font=dict(size=14,color='white'),\n",
        "    plot_bgcolor='black',\n",
        "    paper_bgcolor='black',\n",
        "    bargap=0.1,\n",
        ")\n",
        "\n",
        "fig.show()"
      ],
      "metadata": {
        "id": "L8MOKZY6S4lK"
      },
      "execution_count": null,
      "outputs": []
    },
    {
      "cell_type": "code",
      "source": [
        "total_lead_times = df['Lead times'].sum()\n",
        "total_stock_levels = df['Stock levels'].sum()\n",
        "total_availability = df['Availability'].sum()\n",
        "\n",
        "print(f\"Total Lead Times: {total_lead_times}\")\n",
        "print(f\"Total Stock Levels: {total_stock_levels}\")\n",
        "print(f\"Total Availability: {total_availability}\")"
      ],
      "metadata": {
        "id": "PvJJY2hCS_-A"
      },
      "execution_count": null,
      "outputs": []
    },
    {
      "cell_type": "code",
      "source": [
        "fig = go.Figure()\n",
        "\n",
        "fig.add_trace(go.Indicator(\n",
        "    mode=\"number\",\n",
        "    value=total_availability,\n",
        "    title={\"text\": \"Total Availability\"},\n",
        "    domain={'x': [0, 1], 'y': [0, 1]}\n",
        "))\n",
        "\n",
        "fig.update_layout(\n",
        "    font=dict(size=18, color='white'),\n",
        "    plot_bgcolor='black',\n",
        "    paper_bgcolor='black',\n",
        "\n",
        ")\n",
        "\n",
        "fig.show()"
      ],
      "metadata": {
        "id": "xf1eVqJFS-3D"
      },
      "execution_count": null,
      "outputs": []
    },
    {
      "cell_type": "code",
      "source": [
        "sum_defect_rates = df.groupby('Inspection results')['Defect rates'].sum().reset_index()\n",
        "total_defect_rate = df['Defect rates'].sum()\n",
        "\n",
        "# Calculate the percentage contribution of each inspection result's defect rate\n",
        "sum_defect_rates['Percentage of Total Defect Rate'] = \\\n",
        "    (sum_defect_rates['Defect rates'] / total_defect_rate) * 100\n",
        "\n",
        "# Calculate the average defect rate for each inspection result\n",
        "avg_defect_rate = df.groupby('Inspection results')['Defect rates'].mean().reset_index()\n",
        "\n",
        "# Merge the results and order by 'Defect Rates'\n",
        "result = pd.merge(sum_defect_rates, avg_defect_rate, on='Inspection results', suffixes=('_sum', '_avg'))\n",
        "result = result.sort_values(by='Defect rates_sum', ascending=False)\n",
        "\n",
        "result"
      ],
      "metadata": {
        "id": "knBoK57WTQWD"
      },
      "execution_count": null,
      "outputs": []
    },
    {
      "cell_type": "code",
      "source": [
        "fig = px.sunburst(result, path=['Inspection results'], values='Defect rates_sum',\n",
        "                  hover_data=['Percentage of Total Defect Rate', 'Defect rates_avg'],\n",
        "                  title='Defect Rates by Inspection Results (Sunburst Chart)',\n",
        "                  color='Defect rates_sum',\n",
        "                  color_continuous_scale='RdBu')\n",
        "\n",
        "fig.update_layout(\n",
        "    font=dict(size=14, color='white'),\n",
        "    plot_bgcolor='black',\n",
        "    paper_bgcolor='black',\n",
        ")\n",
        "fig.show()"
      ],
      "metadata": {
        "id": "CnfgYmdoTG0M"
      },
      "execution_count": null,
      "outputs": []
    },
    {
      "cell_type": "code",
      "source": [
        "mode_counts = df['Transportation modes'].value_counts()\n",
        "\n",
        "fig = go.Figure()\n",
        "\n",
        "fig.add_trace(go.Pie(\n",
        "    labels=mode_counts.index,\n",
        "    values=mode_counts.values,\n",
        "    textinfo='percent+label',\n",
        "    marker_colors=['#1f77b4', '#ff7f0e', '#2ca02c', '#d62728'],\n",
        "    textposition='inside',\n",
        "    hole=0.3\n",
        "))\n",
        "\n",
        "fig.update_layout(\n",
        "    title='Frequency of Transportation Modes',\n",
        "    font=dict(size=14, color='white'),\n",
        "    plot_bgcolor='black',\n",
        "    paper_bgcolor='black',\n",
        "\n",
        ")\n",
        "\n",
        "fig.show()"
      ],
      "metadata": {
        "id": "AEjqwCdvTXqk"
      },
      "execution_count": null,
      "outputs": []
    },
    {
      "cell_type": "code",
      "source": [
        "mode_summary = df.groupby('Transportation modes').agg({\n",
        "    'Lead times': 'sum',\n",
        "    'Costs': 'sum'\n",
        "}).reset_index()\n",
        "\n",
        "print(mode_summary)"
      ],
      "metadata": {
        "id": "por3rkG4TdbE"
      },
      "execution_count": null,
      "outputs": []
    },
    {
      "cell_type": "code",
      "source": [
        "fig = go.Figure()\n",
        "\n",
        "fig.add_trace(go.Scatter(\n",
        "    x=mode_summary['Lead times'],\n",
        "    y=mode_summary['Costs'],\n",
        "    mode='markers',\n",
        "    marker=dict(color='blue', size=12),\n",
        "    text=mode_summary['Transportation modes'],\n",
        "    hovertemplate='<b>Transport Mode</b>: %{text}<br><b>Lead Time</b>: %{x}<br><b>Cost</b>: %{y}',\n",
        "))\n",
        "\n",
        "fig.update_layout(\n",
        "    title='Relationship Between Transportation Modes, Lead Time, and Costs',\n",
        "    xaxis_title='Lead Time',\n",
        "    yaxis_title='Costs',\n",
        "    font=dict(size=14, color='white'),\n",
        "    plot_bgcolor='black',\n",
        "    paper_bgcolor='black',\n",
        ")\n",
        "\n",
        "fig.show()"
      ],
      "metadata": {
        "id": "DDG4fZKUTf_L"
      },
      "execution_count": null,
      "outputs": []
    },
    {
      "cell_type": "code",
      "source": [
        "route_counts = df['Routes'].value_counts()\n",
        "\n",
        "route_counts_df = route_counts.reset_index()\n",
        "route_counts_df.columns = ['Routes', 'Count']\n",
        "\n",
        "fig = px.scatter(route_counts_df, x='Routes', y='Count', size='Count', hover_name='Routes',\n",
        "                 title='Bubble Chart of Transportation Routes with Count',\n",
        "                 labels={'Routes': 'Transportation Routes', 'Count': 'Frequency'},\n",
        "                 size_max=60)\n",
        "\n",
        "fig.update_layout(\n",
        "    showlegend=False,\n",
        "    xaxis_title=\"Transportation Routes\",\n",
        "    yaxis_title=\"Frequency\",\n",
        "    font=dict(size=14, color='white'),\n",
        "     xaxis=dict(showgrid=False),  # Remove x-axis gridlines\n",
        "    yaxis=dict(showgrid=False),   # Remove y-axis gridlines\n",
        "    plot_bgcolor='black',\n",
        "    paper_bgcolor='black',\n",
        ")\n",
        "fig.show()"
      ],
      "metadata": {
        "id": "2etvY-qaTnUs"
      },
      "execution_count": null,
      "outputs": []
    },
    {
      "cell_type": "code",
      "source": [
        "# Group by 'Routes' and calculate sum of 'Lead times' and 'Costs'\n",
        "route_summary = df.groupby('Routes').agg({'Lead times': 'sum', 'Costs': 'sum'}).reset_index()\n",
        "route_summary = route_summary.sort_values(by='Lead times', ascending=False)\n",
        "\n",
        "route_summary"
      ],
      "metadata": {
        "id": "ENtB6yhHT7Bc"
      },
      "execution_count": null,
      "outputs": []
    },
    {
      "cell_type": "code",
      "source": [
        "route_summary = df.groupby('Routes').agg({'Lead times': 'sum', 'Costs': 'sum'}).reset_index()\n",
        "\n",
        "route_summary = route_summary.sort_values(by='Lead times', ascending=False)\n",
        "\n",
        "route_summary['Costs'] = route_summary['Costs'].round(2)\n",
        "\n",
        "fig = px.parallel_categories(\n",
        "    route_summary,\n",
        "    dimensions=['Routes', 'Lead times', 'Costs'],\n",
        "    color='Lead times',\n",
        "    title='Impact of Routes on Lead Times and Costs',\n",
        "    color_continuous_scale=px.colors.diverging.Tealrose\n",
        ")\n",
        "\n",
        "fig.update_layout(\n",
        "    font=dict(size=14, color='white'),\n",
        "    plot_bgcolor='black',\n",
        "    paper_bgcolor='black',\n",
        ")\n",
        "\n",
        "fig.show()"
      ],
      "metadata": {
        "id": "saUPC3B4T9pz"
      },
      "execution_count": null,
      "outputs": []
    },
    {
      "cell_type": "code",
      "source": [
        "average_defect_rate = df.groupby('Product type').agg({'Defect rates': 'mean'}).reset_index()\n",
        "\n",
        "average_defect_rate['Defect rates'] = average_defect_rate['Defect rates'].round(2)\n",
        "\n",
        "average_defect_rate.columns = ['Product Type', 'Average Defect Rate']\n",
        "\n",
        "print(average_defect_rate)"
      ],
      "metadata": {
        "id": "8hY4aFG8UCJE"
      },
      "execution_count": null,
      "outputs": []
    },
    {
      "cell_type": "code",
      "source": [
        "fig = px.pie(\n",
        "    average_defect_rate,\n",
        "    names='Product Type',\n",
        "    values='Average Defect Rate',\n",
        "    title='Average Defect Rate by Product Type',\n",
        "    color_discrete_sequence=px.colors.qualitative.Pastel\n",
        ")\n",
        "\n",
        "fig.update_layout(\n",
        "    font=dict(size=14,color='white'),\n",
        "    showlegend=True,\n",
        "    legend_title_text='Product Type',\n",
        "    plot_bgcolor='black',\n",
        "    paper_bgcolor='black',\n",
        ")\n",
        "\n",
        "fig.show()"
      ],
      "metadata": {
        "id": "h4WzLWAgUEWL"
      },
      "execution_count": null,
      "outputs": []
    },
    {
      "cell_type": "code",
      "source": [
        "cost_summary = df.groupby('Inspection results').agg({'Manufacturing costs': 'sum'}).reset_index()\n",
        "\n",
        "total_costs = cost_summary['Manufacturing costs'].sum()\n",
        "\n",
        "cost_summary['Percentage Contribution'] = (cost_summary['Manufacturing costs'] / total_costs * 100).round(2)\n",
        "\n",
        "cost_summary['Manufacturing costs'] = cost_summary['Manufacturing costs'].astype(float).round(2)\n",
        "cost_summary['Percentage Contribution'] = cost_summary['Percentage Contribution'].astype(float).round(2)\n",
        "\n",
        "cost_summary = cost_summary.sort_values(by='Manufacturing costs', ascending=False)\n",
        "\n",
        "print(cost_summary)"
      ],
      "metadata": {
        "id": "-rRqfUWwUIlA"
      },
      "execution_count": null,
      "outputs": []
    },
    {
      "cell_type": "code",
      "source": [
        "fig = px.pie(\n",
        "    cost_summary,\n",
        "    names='Inspection results',\n",
        "    values='Manufacturing costs',\n",
        "    title='Manufacturing Costs by Inspection Results',\n",
        "    color_discrete_sequence=px.colors.qualitative.Pastel1\n",
        ")\n",
        "\n",
        "fig.update_traces(\n",
        "    hoverinfo='label+value+percent',\n",
        "    textinfo='value+percent'\n",
        ")\n",
        "\n",
        "fig.update_layout(\n",
        "    font=dict(size=14,color='white'),\n",
        "    showlegend=True,\n",
        "    legend_title_text='Inspection Results',\n",
        "    plot_bgcolor='black',\n",
        "    paper_bgcolor='black',\n",
        ")\n",
        "\n",
        "fig.show()"
      ],
      "metadata": {
        "id": "tIw5n17KUK87"
      },
      "execution_count": null,
      "outputs": []
    },
    {
      "cell_type": "code",
      "source": [
        "total_production_volumes = df['Production volumes'].sum()\n",
        "total_stock_levels = df['Stock levels'].sum()\n",
        "total_order_quantities = df['Order quantities'].sum()\n",
        "\n",
        "print(f\"Total Production Volumes: {total_production_volumes}\")\n",
        "print(f\"Total Stock Levels: {total_stock_levels}\")\n",
        "print(f\"Total Order Quantities: {total_order_quantities}\")\n",
        "\n",
        "summary_df = pd.DataFrame({\n",
        "    'Metric': ['Production Volumes', 'Stock Levels', 'Order Quantities'],\n",
        "    'Total': [total_production_volumes, total_stock_levels, total_order_quantities]\n",
        "})\n",
        "\n",
        "print(summary_df)"
      ],
      "metadata": {
        "id": "0rixQZ0YUPkD"
      },
      "execution_count": null,
      "outputs": []
    },
    {
      "cell_type": "code",
      "source": [
        "fig = go.Figure()\n",
        "\n",
        "fig.add_trace(go.Scatterpolar(\n",
        "    r=[total_production_volumes, total_stock_levels, total_order_quantities],\n",
        "    theta=['Production Volumes', 'Stock Levels', 'Order Quantities'],\n",
        "    fill='toself',\n",
        "    name='Metrics',\n",
        "    line_color='green'\n",
        "))\n",
        "\n",
        "fig.update_layout(\n",
        "    title='Relationship between Production Volume, Stock Levels, and Order Quantities',\n",
        "    font=dict(size=14,color='white'),\n",
        "    polar=dict(\n",
        "        radialaxis=dict(\n",
        "            visible=True,\n",
        "            range=[0, max(total_production_volumes, total_stock_levels, total_order_quantities)],\n",
        "            color = 'green'\n",
        "        )\n",
        "    ),\n",
        "    showlegend=True,\n",
        "    plot_bgcolor='black',\n",
        "    paper_bgcolor='black',\n",
        ")\n",
        "\n",
        "fig.show()"
      ],
      "metadata": {
        "id": "qemnwNTfVYWz"
      },
      "execution_count": null,
      "outputs": []
    },
    {
      "cell_type": "code",
      "source": [
        "location_summary = df.groupby('Location').agg({'Production volumes': 'sum'}).reset_index()\n",
        "\n",
        "location_summary = location_summary.sort_values(by='Production volumes', ascending=False)\n",
        "\n",
        "fig = px.treemap(\n",
        "    location_summary,\n",
        "    path=['Location'],\n",
        "    values='Production volumes',\n",
        "    color='Production volumes',\n",
        "    color_continuous_scale='Viridis',\n",
        "    title='Production Volumes by Location'\n",
        ")\n",
        "\n",
        "fig.update_layout(\n",
        "    font=dict(size=14, color='White'),\n",
        "    plot_bgcolor='black',\n",
        "    paper_bgcolor='black',\n",
        ")\n",
        "\n",
        "fig.show()"
      ],
      "metadata": {
        "id": "88p3WIzWVcgj"
      },
      "execution_count": null,
      "outputs": []
    },
    {
      "cell_type": "code",
      "source": [
        "location_summary = df.groupby('Location').agg({'Production volumes': 'sum'}).reset_index()\n",
        "\n",
        "total_production_volumes = location_summary['Production volumes'].sum()\n",
        "\n",
        "location_summary['Percentage'] = (location_summary['Production volumes'] / total_production_volumes) * 100\n",
        "\n",
        "location_summary = location_summary.sort_values(by='Production volumes', ascending=False)\n",
        "\n",
        "fig = px.pie(\n",
        "    location_summary,\n",
        "    names='Location',\n",
        "    values='Percentage',\n",
        "    title='Percentage of Production Volumes Aligned with Market Demands by Location',\n",
        "    color_discrete_sequence=px.colors.qualitative.Set3\n",
        ")\n",
        "\n",
        "fig.update_layout(\n",
        "    font=dict(size=14, color='white'),\n",
        "    plot_bgcolor='black',\n",
        "    paper_bgcolor='black',\n",
        ")\n",
        "fig.show()"
      ],
      "metadata": {
        "id": "naC1dsGiVmdL"
      },
      "execution_count": null,
      "outputs": []
    },
    {
      "cell_type": "code",
      "source": [
        "import plotly.express as px\n",
        "\n",
        "price_revenue_summary = df.groupby('Price').agg({'Revenue generated': 'sum'}).reset_index()\n",
        "\n",
        "fig = px.line(price_revenue_summary,\n",
        "              x='Price',\n",
        "              y='Revenue generated',\n",
        "              title='Revenue Generated by Price Range',\n",
        "              labels={'Revenue generated': 'Total Revenue ($)', 'Price': 'Price Range'},\n",
        "              markers=True)\n",
        "\n",
        "fig.update_layout(\n",
        "    font=dict(size=14, color='White'),\n",
        "    plot_bgcolor='black',\n",
        "    paper_bgcolor='black',\n",
        "    xaxis=dict(showgrid=False),  # Remove gridlines on x-axis\n",
        "    yaxis=dict(showgrid=False),  # Remove gridlines on y-axis\n",
        "    width=1600,                  # Adjust the width for better clarity\n",
        "    height=600                   # Adjust the height for better clarity\n",
        ")\n",
        "\n",
        "fig.show()\n"
      ],
      "metadata": {
        "id": "QPEeV0tRVrDN"
      },
      "execution_count": null,
      "outputs": []
    },
    {
      "cell_type": "code",
      "source": [
        "shipping_order_summary = df.groupby('Shipping costs').agg({'Order quantities': 'mean'}).reset_index()\n",
        "\n",
        "fig = px.bar(shipping_order_summary,\n",
        "             x='Shipping costs',\n",
        "             y='Order quantities',\n",
        "             title='Average Order Quantities by Shipping Cost Range',\n",
        "             labels={'Order quantities': 'Average Order Quantities', 'Shipping Cost Range': 'Shipping Cost Range'},\n",
        "             color='Shipping costs',\n",
        "             color_discrete_sequence=px.colors.qualitative.Bold)\n",
        "\n",
        "fig.update_layout(\n",
        "    font=dict(size=14, color='white'),\n",
        "    plot_bgcolor='black',\n",
        "    paper_bgcolor='black',\n",
        "    xaxis={'categoryorder': 'total descending'}\n",
        ")\n",
        "\n",
        "fig.show()"
      ],
      "metadata": {
        "id": "NHkx504hWHOD"
      },
      "execution_count": null,
      "outputs": []
    },
    {
      "cell_type": "code",
      "source": [
        "location_summary = df.groupby('Location').agg({'Production volumes': 'sum', 'Manufacturing costs': 'sum'}).reset_index()\n",
        "\n",
        "fig = px.scatter(location_summary,\n",
        "                 x='Production volumes',\n",
        "                 y='Manufacturing costs',\n",
        "                 color='Location',\n",
        "                 size='Production volumes',\n",
        "                 hover_name='Location',\n",
        "                 title='Relationship between Production Volumes and Manufacturing Costs by Location',\n",
        "                 labels={'Production volumes': 'Production Volumes', 'Manufacturing costs': 'Manufacturing Costs', 'Location': 'Location'},\n",
        "                 size_max=30)\n",
        "\n",
        "fig.update_layout(\n",
        "    font=dict(size=14, color='white'),\n",
        "    plot_bgcolor='black',\n",
        "    paper_bgcolor='black',\n",
        "    showlegend=True,\n",
        "     xaxis=dict(showgrid=False),  # Remove gridlines on x-axis\n",
        "    #yaxis=dict(showgrid=False),\n",
        "    xaxis_title='Production Volumes',\n",
        "    yaxis_title='Manufacturing Costs'\n",
        ")\n",
        "\n",
        "fig.show()"
      ],
      "metadata": {
        "id": "TTiIuOfTWSub"
      },
      "execution_count": null,
      "outputs": []
    },
    {
      "cell_type": "code",
      "source": [
        "transportation_summary = df.groupby('Transportation modes')['Shipping costs'].sum().reset_index()\n",
        "\n",
        "fig = px.bar(transportation_summary,\n",
        "             x='Transportation modes',\n",
        "             y='Shipping costs',\n",
        "             color='Transportation modes',\n",
        "             hover_name='Transportation modes',\n",
        "             title='Shipping Costs by Transportation Mode',\n",
        "             labels={'Shipping costs': 'Shipping Costs ($)', 'Transportation modes': 'Transportation Mode'},\n",
        "             color_discrete_sequence=px.colors.qualitative.Safe)\n",
        "\n",
        "fig.update_layout(\n",
        "    font=dict(size=14, color='White'),\n",
        "    plot_bgcolor='black',\n",
        "    paper_bgcolor='black',\n",
        "    xaxis_title='Transportation Modes',\n",
        "    yaxis_title='Shipping Costs ($)',\n",
        "    showlegend=True\n",
        ")\n",
        "\n",
        "fig.show()"
      ],
      "metadata": {
        "id": "VPId3HcdWid0"
      },
      "execution_count": null,
      "outputs": []
    },
    {
      "cell_type": "code",
      "source": [
        "production_summary = df.groupby('Production volumes')['Manufacturing costs'].sum().reset_index()\n",
        "\n",
        "fig = px.scatter(production_summary,\n",
        "                 x='Production volumes',\n",
        "                 y='Manufacturing costs',\n",
        "                 trendline='ols',\n",
        "                 title='Manufacturing Costs vs. Production Volumes',\n",
        "                 labels={'Manufacturing costs': 'Manufacturing Costs ($)', 'Production volumes': 'Production Volumes'},\n",
        "                 hover_name='Production volumes',\n",
        "                 trendline_color_override='red'\n",
        "                )\n",
        "\n",
        "fig.update_layout(\n",
        "    font=dict(size=14, color='white'),\n",
        "    plot_bgcolor='black',\n",
        "    paper_bgcolor='black',\n",
        "    xaxis_title='Production Volumes',\n",
        "    yaxis_title='Manufacturing Costs ($)',\n",
        "    showlegend=True\n",
        ")\n",
        "\n",
        "fig.show()"
      ],
      "metadata": {
        "id": "9WcGhF6AWoU0"
      },
      "execution_count": null,
      "outputs": []
    },
    {
      "cell_type": "code",
      "source": [
        "supplier_summary = df.groupby('Supplier name')['Manufacturing costs'].sum().reset_index()\n",
        "\n",
        "fig = px.bar(\n",
        "    supplier_summary,\n",
        "    x='Supplier name',\n",
        "    y='Manufacturing costs',\n",
        "    title='Distribution of Manufacturing Costs by Supplier',\n",
        "    labels={'Supplier name': 'Supplier Name', 'Manufacturing costs': 'Manufacturing Costs ($)'},\n",
        "    color='Supplier name',\n",
        "    color_discrete_sequence=px.colors.qualitative.Set3_r\n",
        ")\n",
        "\n",
        "fig.update_layout(\n",
        "    font=dict(size=14, color='White'),\n",
        "    plot_bgcolor='black',\n",
        "    paper_bgcolor='black',\n",
        "    xaxis={'categoryorder':'total descending'}\n",
        ")\n",
        "\n",
        "fig.show()"
      ],
      "metadata": {
        "id": "iXn55TgEW1AM"
      },
      "execution_count": null,
      "outputs": []
    },
    {
      "cell_type": "code",
      "source": [
        "shipping_summary = df.groupby('Shipping carriers')['Shipping costs'].sum().reset_index()\n",
        "\n",
        "fig = px.bar(\n",
        "    shipping_summary,\n",
        "    x='Shipping carriers',\n",
        "    y='Shipping costs',\n",
        "    title='Distribution of Shipping Costs by Shipping Carriers',\n",
        "    labels={'Shipping carriers': 'Shipping Carriers', 'Shipping costs': 'Shipping Costs ($)'},\n",
        "    color='Shipping carriers',\n",
        "    color_discrete_sequence=px.colors.qualitative.Set2\n",
        ")\n",
        "\n",
        "fig.update_layout(\n",
        "    font=dict(size=14, color='White'),\n",
        "    xaxis_title=None,\n",
        "    yaxis_title='Shipping Costs ($)',\n",
        "    plot_bgcolor='black',\n",
        "    paper_bgcolor='black',\n",
        ")\n",
        "\n",
        "fig.show()"
      ],
      "metadata": {
        "id": "oByGf13GW7gL"
      },
      "execution_count": null,
      "outputs": []
    },
    {
      "cell_type": "code",
      "source": [
        "order_summary = df.groupby('Transportation modes')['Order quantities'].sum().reset_index()\n",
        "\n",
        "fig = px.sunburst(\n",
        "    order_summary,\n",
        "    path=['Transportation modes'],\n",
        "    values='Order quantities',\n",
        "    title='Total Order Quantities by Transportation Mode',\n",
        "    color='Order quantities',\n",
        "    color_continuous_scale=px.colors.sequential.Blues,\n",
        "    labels={'Transportation modes': 'Transportation Mode', 'Order quantities': 'Total Order Quantities'},\n",
        ")\n",
        "\n",
        "fig.update_layout(\n",
        "    font=dict(size=14, color='White'),\n",
        "    plot_bgcolor='black',\n",
        "    paper_bgcolor='black',\n",
        ")\n",
        "\n",
        "fig.show()"
      ],
      "metadata": {
        "id": "QUpAGaQ1XCHD"
      },
      "execution_count": null,
      "outputs": []
    },
    {
      "cell_type": "code",
      "source": [
        "df['Total shipping costs'] = df['Number of products sold'] * df['Shipping costs']\n",
        "\n",
        "fig = px.scatter(df,\n",
        "                 x='Number of products sold',\n",
        "                 y='Total shipping costs',\n",
        "                 size='Price',\n",
        "                 color='Customer demographics',\n",
        "                 hover_name='SKU',\n",
        "                 title='Relationship between Number of Products Sold and Total Shipping Costs',\n",
        "                 labels={'Number of products sold': 'Number of Products Sold', 'Total shipping costs': 'Total Shipping Costs ($)', 'Customer demographics': 'Customer Segment'},\n",
        "                 template='plotly_dark'\n",
        "                )\n",
        "\n",
        "fig.update_traces(marker=dict(line=dict(width=1, color='DarkSlateGrey')),\n",
        "                  selector=dict(mode='markers'))\n",
        "\n",
        "fig.update_layout(\n",
        "    font=dict(size=14, color='white'),\n",
        "    plot_bgcolor='rgba(0, 0, 0, 0)',\n",
        "    paper_bgcolor='rgba(0, 0, 0, 0)',\n",
        ")\n",
        "\n",
        "fig.show()"
      ],
      "metadata": {
        "id": "2h6xVZZvXGI8"
      },
      "execution_count": null,
      "outputs": []
    },
    {
      "cell_type": "code",
      "source": [
        "fig = px.scatter(df,\n",
        "                 x='Manufacturing costs',\n",
        "                 y='Revenue generated',\n",
        "                 size='Price',\n",
        "                 color='Product type',\n",
        "                 hover_name='SKU',\n",
        "                 title='Relationship between Manufacturing Costs and Revenue Generated',\n",
        "                 labels={'Manufacturing costs': 'Manufacturing Costs ($)', 'Revenue generated': 'Revenue Generated ($)', 'Product type': 'Product Type'},\n",
        "                 template='plotly_dark',\n",
        "                 color_discrete_sequence=px.colors.qualitative.Dark24\n",
        "                )\n",
        "\n",
        "fig.update_traces(marker=dict(line=dict(width=1, color='DarkSlateGrey')),\n",
        "                  selector=dict(mode='markers'))\n",
        "\n",
        "fig.update_layout(\n",
        "    font=dict(size=14, color='white'),\n",
        "    plot_bgcolor='rgba(0, 0, 0, 0)',\n",
        "    paper_bgcolor='rgba(0, 0, 0, 0)',\n",
        ")\n",
        "fig.show()"
      ],
      "metadata": {
        "id": "EZX3dp1kXP9V"
      },
      "execution_count": null,
      "outputs": []
    },
    {
      "cell_type": "code",
      "source": [
        "numeric_columns = ['Shipping times', 'Lead times']\n",
        "\n",
        "transport_summary = df.groupby('Transportation modes')[numeric_columns].mean().reset_index()\n",
        "\n",
        "fig = px.line(transport_summary,\n",
        "              x='Shipping times',\n",
        "              y='Lead times',\n",
        "              color='Transportation modes',\n",
        "              title='Average Lead Times vs. Shipping Times by Transportation Mode',\n",
        "              labels={'Shipping times': 'Shipping Times (days)', 'Lead times': 'Lead Times (days)', 'Transportation modes': 'Transportation Mode'},\n",
        "              template='plotly_dark',\n",
        "              line_shape='spline'\n",
        "             )\n",
        "\n",
        "fig.update_traces(mode='lines+markers')\n",
        "\n",
        "fig.update_layout(\n",
        "    font=dict(size=14, color='white'),\n",
        "    plot_bgcolor='black',\n",
        "    paper_bgcolor='black',\n",
        ")\n",
        "\n",
        "fig.show()"
      ],
      "metadata": {
        "id": "W-601FYmXVfb"
      },
      "execution_count": null,
      "outputs": []
    },
    {
      "cell_type": "code",
      "source": [],
      "metadata": {
        "id": "OKhgURHTXhOM"
      },
      "execution_count": null,
      "outputs": []
    },
    {
      "cell_type": "markdown",
      "source": [
        "#end dashboard"
      ],
      "metadata": {
        "id": "xoRWjrCrMNhD"
      }
    },
    {
      "cell_type": "code",
      "source": [
        "\n",
        "fig = px.scatter(df, x='Price',\n",
        "                 y='Revenue generated',\n",
        "                 color='Product type',\n",
        "                 hover_data=['Number of products sold'],\n",
        "                 trendline=\"ols\",\n",
        "                 color_discrete_sequence=px.colors.qualitative.Set1)  # Example of a discrete color palette\n",
        "fig.show()"
      ],
      "metadata": {
        "id": "yLoTOUjL2fmi"
      },
      "execution_count": null,
      "outputs": []
    },
    {
      "cell_type": "markdown",
      "source": [
        "testtt sctter"
      ],
      "metadata": {
        "id": "oafy8Qie-wP3"
      }
    },
    {
      "cell_type": "code",
      "source": [
        "#Add Transparency\n",
        "#Reducing the opacity of points can help visualize overlapping data more clearly.\n",
        "fig = px.scatter(df, x='Price',\n",
        "                 y='Revenue generated',\n",
        "                 color='Product type',\n",
        "                 hover_data=['Number of products sold'],\n",
        "                 trendline=\"ols\",\n",
        "                 color_discrete_sequence=px.colors.qualitative.Set1,\n",
        "                 opacity=0.2)  # Set opacity to a lower value\n",
        "fig.show()\n"
      ],
      "metadata": {
        "id": "HjSpigFt_ADv"
      },
      "execution_count": null,
      "outputs": []
    },
    {
      "cell_type": "code",
      "source": [
        "import duckdb\n",
        "\n",
        "# Query with adjusted DECIMAL precision\n",
        "query = \"\"\"\n",
        "    SELECT \"Product type\",\n",
        "           \"SKU\",\n",
        "           CAST(sum(\"Revenue generated\") AS DECIMAL(15,2)) AS total_revenue\n",
        "    FROM df\n",
        "    GROUP BY \"Product type\", \"SKU\"\n",
        "    ORDER BY total_revenue DESC\n",
        "\"\"\"\n",
        "\n",
        "# Execute the query\n",
        "result = duckdb.query(query).df()\n",
        "\n",
        "# Print or display the result\n",
        "print(result)"
      ],
      "metadata": {
        "id": "GyV4mBeF4fJk"
      },
      "execution_count": null,
      "outputs": []
    },
    {
      "cell_type": "code",
      "source": [
        "avg_lead_time = df.groupby('Product type')['Lead time'].mean().reset_index()\n",
        "avg_manufacturing_costs = df.groupby('Product type')['Manufacturing costs'].mean().reset_index()\n",
        "result = pd.merge(avg_lead_time, avg_manufacturing_costs, on='Product type')\n",
        "result.rename(columns={'Lead time': 'Average Lead Time', 'Manufacturing costs': 'Average Manufacturing Costs'}, inplace=True)\n",
        "print(result)"
      ],
      "metadata": {
        "id": "0ZnkzcSg7oqD"
      },
      "execution_count": null,
      "outputs": []
    },
    {
      "cell_type": "code",
      "source": [
        "query = \"\"\"\n",
        "    SELECT \"Location\",\n",
        "           SUM(\"Revenue generated\")::DECIMAL(15, 2) AS total_revenue\n",
        "    FROM df\n",
        "    GROUP BY \"Location\"\n",
        "    ORDER BY total_revenue DESC\n",
        "\"\"\"\n",
        "result = duckdb.query(query).df()\n",
        "\n",
        "print(result)\n"
      ],
      "metadata": {
        "id": "kGUdrj--91WU"
      },
      "execution_count": null,
      "outputs": []
    },
    {
      "cell_type": "markdown",
      "source": [
        "sku"
      ],
      "metadata": {
        "id": "tUM_1d7hMnbF"
      }
    },
    {
      "cell_type": "code",
      "source": [
        "risk_data = df[['SKU', 'Lead times', 'Stock levels']]\n",
        "risk_data.head()"
      ],
      "metadata": {
        "id": "xYUu-BCONUNs"
      },
      "execution_count": null,
      "outputs": []
    },
    {
      "cell_type": "code",
      "source": [
        "risk_data['Risk score'] = risk_data['Lead times'] * (1-risk_data.loc[:,'Stock levels'])"
      ],
      "metadata": {
        "id": "nNxqM5XyNqY6"
      },
      "execution_count": null,
      "outputs": []
    },
    {
      "cell_type": "code",
      "source": [
        "import plotly.express as px"
      ],
      "metadata": {
        "id": "jCNg_LNfM1yU"
      },
      "execution_count": null,
      "outputs": []
    },
    {
      "cell_type": "code",
      "source": [
        "# Sort the risk_data by 'Risk score' in descending order and select top 10 highest-risk data\n",
        "risk_data = risk_data.sort_values(by='Risk score', ascending=False)[:10]\n",
        "\n",
        "# Create a bar plot using Plotly Express\n",
        "fig = px.bar(risk_data, x='SKU', y='Risk score', title='Top 10 Highest-Risk Data',\n",
        "             labels={'Risk score': 'Risk Score', 'SKU': 'SKU'},\n",
        "             text='Risk score')\n",
        "\n",
        "# Customize the appearance of the plot\n",
        "fig.update_traces(texttemplate='%{text:.2f}', textposition='outside')\n",
        "fig.update_layout(xaxis_title='SKU', yaxis_title='Risk Score', title_x=0.5)\n",
        "\n",
        "# Show the plot\n",
        "fig.show()"
      ],
      "metadata": {
        "id": "9Tn6DIolNwXy"
      },
      "execution_count": null,
      "outputs": []
    },
    {
      "cell_type": "code",
      "source": [
        "stock_chart = px.line(df, x='SKU',\n",
        "                      y='Stock levels',\n",
        "                      title='Stock Levels by SKU')\n",
        "stock_chart.show()"
      ],
      "metadata": {
        "id": "RZo1lzuuMu2d"
      },
      "execution_count": null,
      "outputs": []
    },
    {
      "cell_type": "code",
      "source": [
        "order_quantity_chart = px.bar(df, x='SKU',\n",
        "                              y='Order quantities',\n",
        "                              title='Order Quantity by SKU')\n",
        "order_quantity_chart.show()"
      ],
      "metadata": {
        "id": "qDZMLfR0NG3H"
      },
      "execution_count": null,
      "outputs": []
    }
  ]
}